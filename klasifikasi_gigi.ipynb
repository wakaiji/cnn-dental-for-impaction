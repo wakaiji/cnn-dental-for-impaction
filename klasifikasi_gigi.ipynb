{
 "cells": [
  {
   "cell_type": "code",
   "execution_count": 1,
   "id": "f62399d1",
   "metadata": {},
   "outputs": [],
   "source": [
    "from tensorflow.keras.models import Sequential\n",
    "from tensorflow.keras.layers import Conv2D, MaxPooling2D\n",
    "from tensorflow.keras.layers import Activation, Dropout, Flatten, Dense,Input,SeparableConv2D,BatchNormalization\n",
    "from tensorflow.keras import optimizers\n",
    "from keras.models import Model\n",
    "from keras.models import load_model\n",
    "from tensorflow.keras.preprocessing.image import ImageDataGenerator, array_to_img, img_to_array, load_img\n",
    "from sklearn import metrics\n",
    "from sklearn.metrics import confusion_matrix, classification_report\n",
    "from keras.callbacks import ModelCheckpoint, Callback, EarlyStopping, ReduceLROnPlateau\n",
    "from tensorflow.keras.optimizers import Adam\n",
    "\n",
    "from iterstrat.ml_stratifiers import MultilabelStratifiedKFold\n",
    "\n",
    "import cv2 as cv2\n",
    "import pandas as pd\n",
    "import numpy as np\n",
    "import matplotlib.pyplot as plt\n",
    "import sys,os, itertools\n",
    "import tqdm\n",
    "import shutil\n",
    "%matplotlib inline"
   ]
  },
  {
   "cell_type": "markdown",
   "id": "fad97a11",
   "metadata": {},
   "source": [
    "## PRE-PROCESSING"
   ]
  },
  {
   "cell_type": "code",
   "execution_count": 17,
   "id": "47358283",
   "metadata": {},
   "outputs": [],
   "source": [
    "BASE_DIR = 'dataset/'\n",
    "C1 = BASE_DIR + \"C1/\"\n",
    "C2 = BASE_DIR + \"C2/\"\n",
    "C3 = BASE_DIR + \"C3/\"\n",
    "\n",
    "files_C1 = sorted(os.listdir(C1))\n",
    "files_C2 = sorted(os.listdir(C2))\n",
    "files_C3 = sorted(os.listdir(C3))\n",
    "\n",
    "df = pd.DataFrame()\n",
    "\n",
    "path_iamge = []\n",
    "\n",
    "\n",
    "path = [C1+ str(x) for x in files_C1]+[C2+ str(x) for x in files_C2]+[C3+ str(x) for x in files_C3]\n",
    "label = [label.split('/')[1] for label in path ]\n",
    "\n",
    "df['path'] = path\n",
    "df['label'] = label\n",
    "\n",
    "df.to_csv('data/data.csv', columns=['path','label'],index=False)"
   ]
  },
  {
   "cell_type": "code",
   "execution_count": 18,
   "id": "460a7f8d",
   "metadata": {},
   "outputs": [],
   "source": [
    "path_data = 'data/data.csv'\n",
    "df_data = pd.read_csv(path_data)"
   ]
  },
  {
   "cell_type": "code",
   "execution_count": 19,
   "id": "6446333b",
   "metadata": {},
   "outputs": [
    {
     "data": {
      "text/html": [
       "<div>\n",
       "<style scoped>\n",
       "    .dataframe tbody tr th:only-of-type {\n",
       "        vertical-align: middle;\n",
       "    }\n",
       "\n",
       "    .dataframe tbody tr th {\n",
       "        vertical-align: top;\n",
       "    }\n",
       "\n",
       "    .dataframe thead th {\n",
       "        text-align: right;\n",
       "    }\n",
       "</style>\n",
       "<table border=\"1\" class=\"dataframe\">\n",
       "  <thead>\n",
       "    <tr style=\"text-align: right;\">\n",
       "      <th></th>\n",
       "      <th>path</th>\n",
       "      <th>label</th>\n",
       "    </tr>\n",
       "  </thead>\n",
       "  <tbody>\n",
       "    <tr>\n",
       "      <th>0</th>\n",
       "      <td>dataset/C1/1- kanan c1 - kiri c-1.png</td>\n",
       "      <td>C1</td>\n",
       "    </tr>\n",
       "    <tr>\n",
       "      <th>1</th>\n",
       "      <td>dataset/C1/102 kanan c1 kiri c3.png</td>\n",
       "      <td>C1</td>\n",
       "    </tr>\n",
       "    <tr>\n",
       "      <th>2</th>\n",
       "      <td>dataset/C1/105 - kanan kiri c1.png</td>\n",
       "      <td>C1</td>\n",
       "    </tr>\n",
       "    <tr>\n",
       "      <th>3</th>\n",
       "      <td>dataset/C1/106 - kanan c1 - kiri c2.png</td>\n",
       "      <td>C1</td>\n",
       "    </tr>\n",
       "    <tr>\n",
       "      <th>4</th>\n",
       "      <td>dataset/C1/107 - kanan kiri c1.png</td>\n",
       "      <td>C1</td>\n",
       "    </tr>\n",
       "  </tbody>\n",
       "</table>\n",
       "</div>"
      ],
      "text/plain": [
       "                                      path label\n",
       "0    dataset/C1/1- kanan c1 - kiri c-1.png    C1\n",
       "1      dataset/C1/102 kanan c1 kiri c3.png    C1\n",
       "2       dataset/C1/105 - kanan kiri c1.png    C1\n",
       "3  dataset/C1/106 - kanan c1 - kiri c2.png    C1\n",
       "4       dataset/C1/107 - kanan kiri c1.png    C1"
      ]
     },
     "execution_count": 19,
     "metadata": {},
     "output_type": "execute_result"
    }
   ],
   "source": [
    "df_data.head()"
   ]
  },
  {
   "cell_type": "code",
   "execution_count": 20,
   "id": "4afd2186",
   "metadata": {},
   "outputs": [
    {
     "data": {
      "text/plain": [
       "C1    79\n",
       "C2    74\n",
       "C3    29\n",
       "Name: label, dtype: int64"
      ]
     },
     "execution_count": 20,
     "metadata": {},
     "output_type": "execute_result"
    }
   ],
   "source": [
    "jumlah_label = df['label'].value_counts()\n",
    "jumlah_label"
   ]
  },
  {
   "cell_type": "code",
   "execution_count": 21,
   "id": "09a2fb38",
   "metadata": {},
   "outputs": [
    {
     "data": {
      "text/plain": [
       "<AxesSubplot:>"
      ]
     },
     "execution_count": 21,
     "metadata": {},
     "output_type": "execute_result"
    },
    {
     "data": {
      "image/png": "[encoded data removed]",
      "text/plain": [
       "<Figure size 432x288 with 1 Axes>"
      ]
     },
     "metadata": {
      "needs_background": "light"
     },
     "output_type": "display_data"
    }
   ],
   "source": [
    "jumlah_label.plot.bar()"
   ]
  },
  {
   "cell_type": "code",
   "execution_count": 22,
   "id": "cc0fc42c",
   "metadata": {},
   "outputs": [],
   "source": [
    "import plotly\n",
    "import plotly.express as px\n",
    "import plotly.graph_objects as go\n",
    "import plotly.offline as pyo"
   ]
  },
  {
   "cell_type": "code",
   "execution_count": 23,
   "id": "a0d0ea78",
   "metadata": {},
   "outputs": [],
   "source": [
    "def Visualize_class(df, feature, title):\n",
    "    num_image = df[feature].value_counts().rename_axis(feature).reset_index(name=\"jenis\")\n",
    "    fig = px.bar(num_image[::1], x=\"jenis\", y=feature, orientation='h', color='jenis')\n",
    "    fig.update_layout(\n",
    "        title={\n",
    "            'text' : title,\n",
    "            'y' : 0.95,\n",
    "            'x' : 0.5,\n",
    "            'xanchor' : 'center',\n",
    "            'yanchor' : 'top'})\n",
    "    fig.show()"
   ]
  },
  {
   "cell_type": "code",
   "execution_count": 24,
   "id": "4c314516",
   "metadata": {},
   "outputs": [
    {
     "data": {
      "application/vnd.plotly.v1+json": {
       "config": {
        "plotlyServerURL": "https://plot.ly"
       },
       "data": [
        {
         "alignmentgroup": "True",
         "hovertemplate": "jenis=%{marker.color}<br>label=%{y}<extra></extra>",
         "legendgroup": "",
         "marker": {
          "color": [
           79,
           74,
           29
          ],
          "coloraxis": "coloraxis",
          "pattern": {
           "shape": ""
          }
         },
         "name": "",
         "offsetgroup": "",
         "orientation": "h",
         "showlegend": false,
         "textposition": "auto",
         "type": "bar",
         "x": [
          79,
          74,
          29
         ],
         "xaxis": "x",
         "y": [
          "C1",
          "C2",
          "C3"
         ],
         "yaxis": "y"
        }
       ],
       "layout": {
        "barmode": "relative",
        "coloraxis": {
         "colorbar": {
          "title": {
           "text": "jenis"
          }
         },
         "colorscale": [
          [
           0,
           "#0d0887"
          ],
          [
           0.1111111111111111,
           "#46039f"
          ],
          [
           0.2222222222222222,
           "#7201a8"
          ],
          [
           0.3333333333333333,
           "#9c179e"
          ],
          [
           0.4444444444444444,
           "#bd3786"
          ],
          [
           0.5555555555555556,
           "#d8576b"
          ],
          [
           0.6666666666666666,
           "#ed7953"
          ],
          [
           0.7777777777777778,
           "#fb9f3a"
          ],
          [
           0.8888888888888888,
           "#fdca26"
          ],
          [
           1,
           "#f0f921"
          ]
         ]
        },
        "legend": {
         "tracegroupgap": 0
        },
        "margin": {
         "t": 60
        },
        "template": {
         "data": {
          "bar": [
           {
            "error_x": {
             "color": "#2a3f5f"
            },
            "error_y": {
             "color": "#2a3f5f"
            },
            "marker": {
             "line": {
              "color": "#E5ECF6",
              "width": 0.5
             },
             "pattern": {
              "fillmode": "overlay",
              "size": 10,
              "solidity": 0.2
             }
            },
            "type": "bar"
           }
          ],
          "barpolar": [
           {
            "marker": {
             "line": {
              "color": "#E5ECF6",
              "width": 0.5
             },
             "pattern": {
              "fillmode": "overlay",
              "size": 10,
              "solidity": 0.2
             }
            },
            "type": "barpolar"
           }
          ],
          "carpet": [
           {
            "aaxis": {
             "endlinecolor": "#2a3f5f",
             "gridcolor": "white",
             "linecolor": "white",
             "minorgridcolor": "white",
             "startlinecolor": "#2a3f5f"
            },
            "baxis": {
             "endlinecolor": "#2a3f5f",
             "gridcolor": "white",
             "linecolor": "white",
             "minorgridcolor": "white",
             "startlinecolor": "#2a3f5f"
            },
            "type": "carpet"
           }
          ],
          "choropleth": [
           {
            "colorbar": {
             "outlinewidth": 0,
             "ticks": ""
            },
            "type": "choropleth"
           }
          ],
          "contour": [
           {
            "colorbar": {
             "outlinewidth": 0,
             "ticks": ""
            },
            "colorscale": [
             [
              0,
              "#0d0887"
             ],
             [
              0.1111111111111111,
              "#46039f"
             ],
             [
              0.2222222222222222,
              "#7201a8"
             ],
             [
              0.3333333333333333,
              "#9c179e"
             ],
             [
              0.4444444444444444,
              "#bd3786"
             ],
             [
              0.5555555555555556,
              "#d8576b"
             ],
             [
              0.6666666666666666,
              "#ed7953"
             ],
             [
              0.7777777777777778,
              "#fb9f3a"
             ],
             [
              0.8888888888888888,
              "#fdca26"
             ],
             [
              1,
              "#f0f921"
             ]
            ],
            "type": "contour"
           }
          ],
          "contourcarpet": [
           {
            "colorbar": {
             "outlinewidth": 0,
             "ticks": ""
            },
            "type": "contourcarpet"
           }
          ],
          "heatmap": [
           {
            "colorbar": {
             "outlinewidth": 0,
             "ticks": ""
            },
            "colorscale": [
             [
              0,
              "#0d0887"
             ],
             [
              0.1111111111111111,
              "#46039f"
             ],
             [
              0.2222222222222222,
              "#7201a8"
             ],
             [
              0.3333333333333333,
              "#9c179e"
             ],
             [
              0.4444444444444444,
              "#bd3786"
             ],
             [
              0.5555555555555556,
              "#d8576b"
             ],
             [
              0.6666666666666666,
              "#ed7953"
             ],
             [
              0.7777777777777778,
              "#fb9f3a"
             ],
             [
              0.8888888888888888,
              "#fdca26"
             ],
             [
              1,
              "#f0f921"
             ]
            ],
            "type": "heatmap"
           }
          ],
          "heatmapgl": [
           {
            "colorbar": {
             "outlinewidth": 0,
             "ticks": ""
            },
            "colorscale": [
             [
              0,
              "#0d0887"
             ],
             [
              0.1111111111111111,
              "#46039f"
             ],
             [
              0.2222222222222222,
              "#7201a8"
             ],
             [
              0.3333333333333333,
              "#9c179e"
             ],
             [
              0.4444444444444444,
              "#bd3786"
             ],
             [
              0.5555555555555556,
              "#d8576b"
             ],
             [
              0.6666666666666666,
              "#ed7953"
             ],
             [
              0.7777777777777778,
              "#fb9f3a"
             ],
             [
              0.8888888888888888,
              "#fdca26"
             ],
             [
              1,
              "#f0f921"
             ]
            ],
            "type": "heatmapgl"
           }
          ],
          "histogram": [
           {
            "marker": {
             "pattern": {
              "fillmode": "overlay",
              "size": 10,
              "solidity": 0.2
             }
            },
            "type": "histogram"
           }
          ],
          "histogram2d": [
           {
            "colorbar": {
             "outlinewidth": 0,
             "ticks": ""
            },
            "colorscale": [
             [
              0,
              "#0d0887"
             ],
             [
              0.1111111111111111,
              "#46039f"
             ],
             [
              0.2222222222222222,
              "#7201a8"
             ],
             [
              0.3333333333333333,
              "#9c179e"
             ],
             [
              0.4444444444444444,
              "#bd3786"
             ],
             [
              0.5555555555555556,
              "#d8576b"
             ],
             [
              0.6666666666666666,
              "#ed7953"
             ],
             [
              0.7777777777777778,
              "#fb9f3a"
             ],
             [
              0.8888888888888888,
              "#fdca26"
             ],
             [
              1,
              "#f0f921"
             ]
            ],
            "type": "histogram2d"
           }
          ],
          "histogram2dcontour": [
           {
            "colorbar": {
             "outlinewidth": 0,
             "ticks": ""
            },
            "colorscale": [
             [
              0,
              "#0d0887"
             ],
             [
              0.1111111111111111,
              "#46039f"
             ],
             [
              0.2222222222222222,
              "#7201a8"
             ],
             [
              0.3333333333333333,
              "#9c179e"
             ],
             [
              0.4444444444444444,
              "#bd3786"
             ],
             [
              0.5555555555555556,
              "#d8576b"
             ],
             [
              0.6666666666666666,
              "#ed7953"
             ],
             [
              0.7777777777777778,
              "#fb9f3a"
             ],
             [
              0.8888888888888888,
              "#fdca26"
             ],
             [
              1,
              "#f0f921"
             ]
            ],
            "type": "histogram2dcontour"
           }
          ],
          "mesh3d": [
           {
            "colorbar": {
             "outlinewidth": 0,
             "ticks": ""
            },
            "type": "mesh3d"
           }
          ],
          "parcoords": [
           {
            "line": {
             "colorbar": {
              "outlinewidth": 0,
              "ticks": ""
             }
            },
            "type": "parcoords"
           }
          ],
          "pie": [
           {
            "automargin": true,
            "type": "pie"
           }
          ],
          "scatter": [
           {
            "marker": {
             "colorbar": {
              "outlinewidth": 0,
              "ticks": ""
             }
            },
            "type": "scatter"
           }
          ],
          "scatter3d": [
           {
            "line": {
             "colorbar": {
              "outlinewidth": 0,
              "ticks": ""
             }
            },
            "marker": {
             "colorbar": {
              "outlinewidth": 0,
              "ticks": ""
             }
            },
            "type": "scatter3d"
           }
          ],
          "scattercarpet": [
           {
            "marker": {
             "colorbar": {
              "outlinewidth": 0,
              "ticks": ""
             }
            },
            "type": "scattercarpet"
           }
          ],
          "scattergeo": [
           {
            "marker": {
             "colorbar": {
              "outlinewidth": 0,
              "ticks": ""
             }
            },
            "type": "scattergeo"
           }
          ],
          "scattergl": [
           {
            "marker": {
             "colorbar": {
              "outlinewidth": 0,
              "ticks": ""
             }
            },
            "type": "scattergl"
           }
          ],
          "scattermapbox": [
           {
            "marker": {
             "colorbar": {
              "outlinewidth": 0,
              "ticks": ""
             }
            },
            "type": "scattermapbox"
           }
          ],
          "scatterpolar": [
           {
            "marker": {
             "colorbar": {
              "outlinewidth": 0,
              "ticks": ""
             }
            },
            "type": "scatterpolar"
           }
          ],
          "scatterpolargl": [
           {
            "marker": {
             "colorbar": {
              "outlinewidth": 0,
              "ticks": ""
             }
            },
            "type": "scatterpolargl"
           }
          ],
          "scatterternary": [
           {
            "marker": {
             "colorbar": {
              "outlinewidth": 0,
              "ticks": ""
             }
            },
            "type": "scatterternary"
           }
          ],
          "surface": [
           {
            "colorbar": {
             "outlinewidth": 0,
             "ticks": ""
            },
            "colorscale": [
             [
              0,
              "#0d0887"
             ],
             [
              0.1111111111111111,
              "#46039f"
             ],
             [
              0.2222222222222222,
              "#7201a8"
             ],
             [
              0.3333333333333333,
              "#9c179e"
             ],
             [
              0.4444444444444444,
              "#bd3786"
             ],
             [
              0.5555555555555556,
              "#d8576b"
             ],
             [
              0.6666666666666666,
              "#ed7953"
             ],
             [
              0.7777777777777778,
              "#fb9f3a"
             ],
             [
              0.8888888888888888,
              "#fdca26"
             ],
             [
              1,
              "#f0f921"
             ]
            ],
            "type": "surface"
           }
          ],
          "table": [
           {
            "cells": {
             "fill": {
              "color": "#EBF0F8"
             },
             "line": {
              "color": "white"
             }
            },
            "header": {
             "fill": {
              "color": "#C8D4E3"
             },
             "line": {
              "color": "white"
             }
            },
            "type": "table"
           }
          ]
         },
         "layout": {
          "annotationdefaults": {
           "arrowcolor": "#2a3f5f",
           "arrowhead": 0,
           "arrowwidth": 1
          },
          "autotypenumbers": "strict",
          "coloraxis": {
           "colorbar": {
            "outlinewidth": 0,
            "ticks": ""
           }
          },
          "colorscale": {
           "diverging": [
            [
             0,
             "#8e0152"
            ],
            [
             0.1,
             "#c51b7d"
            ],
            [
             0.2,
             "#de77ae"
            ],
            [
             0.3,
             "#f1b6da"
            ],
            [
             0.4,
             "#fde0ef"
            ],
            [
             0.5,
             "#f7f7f7"
            ],
            [
             0.6,
             "#e6f5d0"
            ],
            [
             0.7,
             "#b8e186"
            ],
            [
             0.8,
             "#7fbc41"
            ],
            [
             0.9,
             "#4d9221"
            ],
            [
             1,
             "#276419"
            ]
           ],
           "sequential": [
            [
             0,
             "#0d0887"
            ],
            [
             0.1111111111111111,
             "#46039f"
            ],
            [
             0.2222222222222222,
             "#7201a8"
            ],
            [
             0.3333333333333333,
             "#9c179e"
            ],
            [
             0.4444444444444444,
             "#bd3786"
            ],
            [
             0.5555555555555556,
             "#d8576b"
            ],
            [
             0.6666666666666666,
             "#ed7953"
            ],
            [
             0.7777777777777778,
             "#fb9f3a"
            ],
            [
             0.8888888888888888,
             "#fdca26"
            ],
            [
             1,
             "#f0f921"
            ]
           ],
           "sequentialminus": [
            [
             0,
             "#0d0887"
            ],
            [
             0.1111111111111111,
             "#46039f"
            ],
            [
             0.2222222222222222,
             "#7201a8"
            ],
            [
             0.3333333333333333,
             "#9c179e"
            ],
            [
             0.4444444444444444,
             "#bd3786"
            ],
            [
             0.5555555555555556,
             "#d8576b"
            ],
            [
             0.6666666666666666,
             "#ed7953"
            ],
            [
             0.7777777777777778,
             "#fb9f3a"
            ],
            [
             0.8888888888888888,
             "#fdca26"
            ],
            [
             1,
             "#f0f921"
            ]
           ]
          },
          "colorway": [
           "#636efa",
           "#EF553B",
           "#00cc96",
           "#ab63fa",
           "#FFA15A",
           "#19d3f3",
           "#FF6692",
           "#B6E880",
           "#FF97FF",
           "#FECB52"
          ],
          "font": {
           "color": "#2a3f5f"
          },
          "geo": {
           "bgcolor": "white",
           "lakecolor": "white",
           "landcolor": "#E5ECF6",
           "showlakes": true,
           "showland": true,
           "subunitcolor": "white"
          },
          "hoverlabel": {
           "align": "left"
          },
          "hovermode": "closest",
          "mapbox": {
           "style": "light"
          },
          "paper_bgcolor": "white",
          "plot_bgcolor": "#E5ECF6",
          "polar": {
           "angularaxis": {
            "gridcolor": "white",
            "linecolor": "white",
            "ticks": ""
           },
           "bgcolor": "#E5ECF6",
           "radialaxis": {
            "gridcolor": "white",
            "linecolor": "white",
            "ticks": ""
           }
          },
          "scene": {
           "xaxis": {
            "backgroundcolor": "#E5ECF6",
            "gridcolor": "white",
            "gridwidth": 2,
            "linecolor": "white",
            "showbackground": true,
            "ticks": "",
            "zerolinecolor": "white"
           },
           "yaxis": {
            "backgroundcolor": "#E5ECF6",
            "gridcolor": "white",
            "gridwidth": 2,
            "linecolor": "white",
            "showbackground": true,
            "ticks": "",
            "zerolinecolor": "white"
           },
           "zaxis": {
            "backgroundcolor": "#E5ECF6",
            "gridcolor": "white",
            "gridwidth": 2,
            "linecolor": "white",
            "showbackground": true,
            "ticks": "",
            "zerolinecolor": "white"
           }
          },
          "shapedefaults": {
           "line": {
            "color": "#2a3f5f"
           }
          },
          "ternary": {
           "aaxis": {
            "gridcolor": "white",
            "linecolor": "white",
            "ticks": ""
           },
           "baxis": {
            "gridcolor": "white",
            "linecolor": "white",
            "ticks": ""
           },
           "bgcolor": "#E5ECF6",
           "caxis": {
            "gridcolor": "white",
            "linecolor": "white",
            "ticks": ""
           }
          },
          "title": {
           "x": 0.05
          },
          "xaxis": {
           "automargin": true,
           "gridcolor": "white",
           "linecolor": "white",
           "ticks": "",
           "title": {
            "standoff": 15
           },
           "zerolinecolor": "white",
           "zerolinewidth": 2
          },
          "yaxis": {
           "automargin": true,
           "gridcolor": "white",
           "linecolor": "white",
           "ticks": "",
           "title": {
            "standoff": 15
           },
           "zerolinecolor": "white",
           "zerolinewidth": 2
          }
         }
        },
        "title": {
         "text": "Pembagian label",
         "x": 0.5,
         "xanchor": "center",
         "y": 0.95,
         "yanchor": "top"
        },
        "xaxis": {
         "anchor": "y",
         "domain": [
          0,
          1
         ],
         "title": {
          "text": "jenis"
         }
        },
        "yaxis": {
         "anchor": "x",
         "domain": [
          0,
          1
         ],
         "title": {
          "text": "label"
         }
        }
       }
      },
      "text/html": [
       "<div>                            <div id=\"e7df373e-4811-4e1c-87a8-fc188889f353\" class=\"plotly-graph-div\" style=\"height:525px; width:100%;\"></div>            <script type=\"text/javascript\">                require([\"plotly\"], function(Plotly) {                    window.PLOTLYENV=window.PLOTLYENV || {};                                    if (document.getElementById(\"e7df373e-4811-4e1c-87a8-fc188889f353\")) {                    Plotly.newPlot(                        \"e7df373e-4811-4e1c-87a8-fc188889f353\",                        [{\"alignmentgroup\":\"True\",\"hovertemplate\":\"jenis=%{marker.color}<br>label=%{y}<extra></extra>\",\"legendgroup\":\"\",\"marker\":{\"color\":[79,74,29],\"coloraxis\":\"coloraxis\",\"pattern\":{\"shape\":\"\"}},\"name\":\"\",\"offsetgroup\":\"\",\"orientation\":\"h\",\"showlegend\":false,\"textposition\":\"auto\",\"type\":\"bar\",\"x\":[79,74,29],\"xaxis\":\"x\",\"y\":[\"C1\",\"C2\",\"C3\"],\"yaxis\":\"y\"}],                        {\"barmode\":\"relative\",\"coloraxis\":{\"colorbar\":{\"title\":{\"text\":\"jenis\"}},\"colorscale\":[[0.0,\"#0d0887\"],[0.1111111111111111,\"#46039f\"],[0.2222222222222222,\"#7201a8\"],[0.3333333333333333,\"#9c179e\"],[0.4444444444444444,\"#bd3786\"],[0.5555555555555556,\"#d8576b\"],[0.6666666666666666,\"#ed7953\"],[0.7777777777777778,\"#fb9f3a\"],[0.8888888888888888,\"#fdca26\"],[1.0,\"#f0f921\"]]},\"legend\":{\"tracegroupgap\":0},\"margin\":{\"t\":60},\"template\":{\"data\":{\"bar\":[{\"error_x\":{\"color\":\"#2a3f5f\"},\"error_y\":{\"color\":\"#2a3f5f\"},\"marker\":{\"line\":{\"color\":\"#E5ECF6\",\"width\":0.5},\"pattern\":{\"fillmode\":\"overlay\",\"size\":10,\"solidity\":0.2}},\"type\":\"bar\"}],\"barpolar\":[{\"marker\":{\"line\":{\"color\":\"#E5ECF6\",\"width\":0.5},\"pattern\":{\"fillmode\":\"overlay\",\"size\":10,\"solidity\":0.2}},\"type\":\"barpolar\"}],\"carpet\":[{\"aaxis\":{\"endlinecolor\":\"#2a3f5f\",\"gridcolor\":\"white\",\"linecolor\":\"white\",\"minorgridcolor\":\"white\",\"startlinecolor\":\"#2a3f5f\"},\"baxis\":{\"endlinecolor\":\"#2a3f5f\",\"gridcolor\":\"white\",\"linecolor\":\"white\",\"minorgridcolor\":\"white\",\"startlinecolor\":\"#2a3f5f\"},\"type\":\"carpet\"}],\"choropleth\":[{\"colorbar\":{\"outlinewidth\":0,\"ticks\":\"\"},\"type\":\"choropleth\"}],\"contour\":[{\"colorbar\":{\"outlinewidth\":0,\"ticks\":\"\"},\"colorscale\":[[0.0,\"#0d0887\"],[0.1111111111111111,\"#46039f\"],[0.2222222222222222,\"#7201a8\"],[0.3333333333333333,\"#9c179e\"],[0.4444444444444444,\"#bd3786\"],[0.5555555555555556,\"#d8576b\"],[0.6666666666666666,\"#ed7953\"],[0.7777777777777778,\"#fb9f3a\"],[0.8888888888888888,\"#fdca26\"],[1.0,\"#f0f921\"]],\"type\":\"contour\"}],\"contourcarpet\":[{\"colorbar\":{\"outlinewidth\":0,\"ticks\":\"\"},\"type\":\"contourcarpet\"}],\"heatmap\":[{\"colorbar\":{\"outlinewidth\":0,\"ticks\":\"\"},\"colorscale\":[[0.0,\"#0d0887\"],[0.1111111111111111,\"#46039f\"],[0.2222222222222222,\"#7201a8\"],[0.3333333333333333,\"#9c179e\"],[0.4444444444444444,\"#bd3786\"],[0.5555555555555556,\"#d8576b\"],[0.6666666666666666,\"#ed7953\"],[0.7777777777777778,\"#fb9f3a\"],[0.8888888888888888,\"#fdca26\"],[1.0,\"#f0f921\"]],\"type\":\"heatmap\"}],\"heatmapgl\":[{\"colorbar\":{\"outlinewidth\":0,\"ticks\":\"\"},\"colorscale\":[[0.0,\"#0d0887\"],[0.1111111111111111,\"#46039f\"],[0.2222222222222222,\"#7201a8\"],[0.3333333333333333,\"#9c179e\"],[0.4444444444444444,\"#bd3786\"],[0.5555555555555556,\"#d8576b\"],[0.6666666666666666,\"#ed7953\"],[0.7777777777777778,\"#fb9f3a\"],[0.8888888888888888,\"#fdca26\"],[1.0,\"#f0f921\"]],\"type\":\"heatmapgl\"}],\"histogram\":[{\"marker\":{\"pattern\":{\"fillmode\":\"overlay\",\"size\":10,\"solidity\":0.2}},\"type\":\"histogram\"}],\"histogram2d\":[{\"colorbar\":{\"outlinewidth\":0,\"ticks\":\"\"},\"colorscale\":[[0.0,\"#0d0887\"],[0.1111111111111111,\"#46039f\"],[0.2222222222222222,\"#7201a8\"],[0.3333333333333333,\"#9c179e\"],[0.4444444444444444,\"#bd3786\"],[0.5555555555555556,\"#d8576b\"],[0.6666666666666666,\"#ed7953\"],[0.7777777777777778,\"#fb9f3a\"],[0.8888888888888888,\"#fdca26\"],[1.0,\"#f0f921\"]],\"type\":\"histogram2d\"}],\"histogram2dcontour\":[{\"colorbar\":{\"outlinewidth\":0,\"ticks\":\"\"},\"colorscale\":[[0.0,\"#0d0887\"],[0.1111111111111111,\"#46039f\"],[0.2222222222222222,\"#7201a8\"],[0.3333333333333333,\"#9c179e\"],[0.4444444444444444,\"#bd3786\"],[0.5555555555555556,\"#d8576b\"],[0.6666666666666666,\"#ed7953\"],[0.7777777777777778,\"#fb9f3a\"],[0.8888888888888888,\"#fdca26\"],[1.0,\"#f0f921\"]],\"type\":\"histogram2dcontour\"}],\"mesh3d\":[{\"colorbar\":{\"outlinewidth\":0,\"ticks\":\"\"},\"type\":\"mesh3d\"}],\"parcoords\":[{\"line\":{\"colorbar\":{\"outlinewidth\":0,\"ticks\":\"\"}},\"type\":\"parcoords\"}],\"pie\":[{\"automargin\":true,\"type\":\"pie\"}],\"scatter\":[{\"marker\":{\"colorbar\":{\"outlinewidth\":0,\"ticks\":\"\"}},\"type\":\"scatter\"}],\"scatter3d\":[{\"line\":{\"colorbar\":{\"outlinewidth\":0,\"ticks\":\"\"}},\"marker\":{\"colorbar\":{\"outlinewidth\":0,\"ticks\":\"\"}},\"type\":\"scatter3d\"}],\"scattercarpet\":[{\"marker\":{\"colorbar\":{\"outlinewidth\":0,\"ticks\":\"\"}},\"type\":\"scattercarpet\"}],\"scattergeo\":[{\"marker\":{\"colorbar\":{\"outlinewidth\":0,\"ticks\":\"\"}},\"type\":\"scattergeo\"}],\"scattergl\":[{\"marker\":{\"colorbar\":{\"outlinewidth\":0,\"ticks\":\"\"}},\"type\":\"scattergl\"}],\"scattermapbox\":[{\"marker\":{\"colorbar\":{\"outlinewidth\":0,\"ticks\":\"\"}},\"type\":\"scattermapbox\"}],\"scatterpolar\":[{\"marker\":{\"colorbar\":{\"outlinewidth\":0,\"ticks\":\"\"}},\"type\":\"scatterpolar\"}],\"scatterpolargl\":[{\"marker\":{\"colorbar\":{\"outlinewidth\":0,\"ticks\":\"\"}},\"type\":\"scatterpolargl\"}],\"scatterternary\":[{\"marker\":{\"colorbar\":{\"outlinewidth\":0,\"ticks\":\"\"}},\"type\":\"scatterternary\"}],\"surface\":[{\"colorbar\":{\"outlinewidth\":0,\"ticks\":\"\"},\"colorscale\":[[0.0,\"#0d0887\"],[0.1111111111111111,\"#46039f\"],[0.2222222222222222,\"#7201a8\"],[0.3333333333333333,\"#9c179e\"],[0.4444444444444444,\"#bd3786\"],[0.5555555555555556,\"#d8576b\"],[0.6666666666666666,\"#ed7953\"],[0.7777777777777778,\"#fb9f3a\"],[0.8888888888888888,\"#fdca26\"],[1.0,\"#f0f921\"]],\"type\":\"surface\"}],\"table\":[{\"cells\":{\"fill\":{\"color\":\"#EBF0F8\"},\"line\":{\"color\":\"white\"}},\"header\":{\"fill\":{\"color\":\"#C8D4E3\"},\"line\":{\"color\":\"white\"}},\"type\":\"table\"}]},\"layout\":{\"annotationdefaults\":{\"arrowcolor\":\"#2a3f5f\",\"arrowhead\":0,\"arrowwidth\":1},\"autotypenumbers\":\"strict\",\"coloraxis\":{\"colorbar\":{\"outlinewidth\":0,\"ticks\":\"\"}},\"colorscale\":{\"diverging\":[[0,\"#8e0152\"],[0.1,\"#c51b7d\"],[0.2,\"#de77ae\"],[0.3,\"#f1b6da\"],[0.4,\"#fde0ef\"],[0.5,\"#f7f7f7\"],[0.6,\"#e6f5d0\"],[0.7,\"#b8e186\"],[0.8,\"#7fbc41\"],[0.9,\"#4d9221\"],[1,\"#276419\"]],\"sequential\":[[0.0,\"#0d0887\"],[0.1111111111111111,\"#46039f\"],[0.2222222222222222,\"#7201a8\"],[0.3333333333333333,\"#9c179e\"],[0.4444444444444444,\"#bd3786\"],[0.5555555555555556,\"#d8576b\"],[0.6666666666666666,\"#ed7953\"],[0.7777777777777778,\"#fb9f3a\"],[0.8888888888888888,\"#fdca26\"],[1.0,\"#f0f921\"]],\"sequentialminus\":[[0.0,\"#0d0887\"],[0.1111111111111111,\"#46039f\"],[0.2222222222222222,\"#7201a8\"],[0.3333333333333333,\"#9c179e\"],[0.4444444444444444,\"#bd3786\"],[0.5555555555555556,\"#d8576b\"],[0.6666666666666666,\"#ed7953\"],[0.7777777777777778,\"#fb9f3a\"],[0.8888888888888888,\"#fdca26\"],[1.0,\"#f0f921\"]]},\"colorway\":[\"#636efa\",\"#EF553B\",\"#00cc96\",\"#ab63fa\",\"#FFA15A\",\"#19d3f3\",\"#FF6692\",\"#B6E880\",\"#FF97FF\",\"#FECB52\"],\"font\":{\"color\":\"#2a3f5f\"},\"geo\":{\"bgcolor\":\"white\",\"lakecolor\":\"white\",\"landcolor\":\"#E5ECF6\",\"showlakes\":true,\"showland\":true,\"subunitcolor\":\"white\"},\"hoverlabel\":{\"align\":\"left\"},\"hovermode\":\"closest\",\"mapbox\":{\"style\":\"light\"},\"paper_bgcolor\":\"white\",\"plot_bgcolor\":\"#E5ECF6\",\"polar\":{\"angularaxis\":{\"gridcolor\":\"white\",\"linecolor\":\"white\",\"ticks\":\"\"},\"bgcolor\":\"#E5ECF6\",\"radialaxis\":{\"gridcolor\":\"white\",\"linecolor\":\"white\",\"ticks\":\"\"}},\"scene\":{\"xaxis\":{\"backgroundcolor\":\"#E5ECF6\",\"gridcolor\":\"white\",\"gridwidth\":2,\"linecolor\":\"white\",\"showbackground\":true,\"ticks\":\"\",\"zerolinecolor\":\"white\"},\"yaxis\":{\"backgroundcolor\":\"#E5ECF6\",\"gridcolor\":\"white\",\"gridwidth\":2,\"linecolor\":\"white\",\"showbackground\":true,\"ticks\":\"\",\"zerolinecolor\":\"white\"},\"zaxis\":{\"backgroundcolor\":\"#E5ECF6\",\"gridcolor\":\"white\",\"gridwidth\":2,\"linecolor\":\"white\",\"showbackground\":true,\"ticks\":\"\",\"zerolinecolor\":\"white\"}},\"shapedefaults\":{\"line\":{\"color\":\"#2a3f5f\"}},\"ternary\":{\"aaxis\":{\"gridcolor\":\"white\",\"linecolor\":\"white\",\"ticks\":\"\"},\"baxis\":{\"gridcolor\":\"white\",\"linecolor\":\"white\",\"ticks\":\"\"},\"bgcolor\":\"#E5ECF6\",\"caxis\":{\"gridcolor\":\"white\",\"linecolor\":\"white\",\"ticks\":\"\"}},\"title\":{\"x\":0.05},\"xaxis\":{\"automargin\":true,\"gridcolor\":\"white\",\"linecolor\":\"white\",\"ticks\":\"\",\"title\":{\"standoff\":15},\"zerolinecolor\":\"white\",\"zerolinewidth\":2},\"yaxis\":{\"automargin\":true,\"gridcolor\":\"white\",\"linecolor\":\"white\",\"ticks\":\"\",\"title\":{\"standoff\":15},\"zerolinecolor\":\"white\",\"zerolinewidth\":2}}},\"title\":{\"text\":\"Pembagian label\",\"x\":0.5,\"xanchor\":\"center\",\"y\":0.95,\"yanchor\":\"top\"},\"xaxis\":{\"anchor\":\"y\",\"domain\":[0.0,1.0],\"title\":{\"text\":\"jenis\"}},\"yaxis\":{\"anchor\":\"x\",\"domain\":[0.0,1.0],\"title\":{\"text\":\"label\"}}},                        {\"responsive\": true}                    ).then(function(){\n",
       "                            \n",
       "var gd = document.getElementById('e7df373e-4811-4e1c-87a8-fc188889f353');\n",
       "var x = new MutationObserver(function (mutations, observer) {{\n",
       "        var display = window.getComputedStyle(gd).display;\n",
       "        if (!display || display === 'none') {{\n",
       "            console.log([gd, 'removed!']);\n",
       "            Plotly.purge(gd);\n",
       "            observer.disconnect();\n",
       "        }}\n",
       "}});\n",
       "\n",
       "// Listen for the removal of the full notebook cells\n",
       "var notebookContainer = gd.closest('#notebook-container');\n",
       "if (notebookContainer) {{\n",
       "    x.observe(notebookContainer, {childList: true});\n",
       "}}\n",
       "\n",
       "// Listen for the clearing of the current output cell\n",
       "var outputEl = gd.closest('.output');\n",
       "if (outputEl) {{\n",
       "    x.observe(outputEl, {childList: true});\n",
       "}}\n",
       "\n",
       "                        })                };                });            </script>        </div>"
      ]
     },
     "metadata": {},
     "output_type": "display_data"
    }
   ],
   "source": [
    "Visualize_class(df_data, feature=\"label\", title=\"Pembagian label\")"
   ]
  },
  {
   "cell_type": "code",
   "execution_count": 25,
   "id": "52296bbb",
   "metadata": {},
   "outputs": [],
   "source": [
    "def scaleImage(path):\n",
    "    \n",
    "    img = cv2.imread(path)\n",
    "    img = cv2.medianBlur(img,5)\n",
    "    \n",
    "    scale_percent = 10 # percent of original size\n",
    "    width = int(img.shape[1])\n",
    "    height = int(img.shape[0])\n",
    "    dim = (width, height)\n",
    "\n",
    "    # resize image\n",
    "    resized = cv2.resize(img, dim,cv2.COLOR_BGR2RGB)\n",
    "    \n",
    "    print('Resized Dimensions : ',resized.shape)\n",
    "\n",
    "    plt.imshow(resized)\n",
    "    plt.show()\n",
    "    \n",
    "    print('Grayscale Image: ')\n",
    "    \n",
    "    img_gray = cv2.cvtColor(resized, cv2.COLOR_BGR2GRAY)\n",
    "    \n",
    "    plt.imshow(img_gray)\n",
    "    plt.show()\n",
    "    \n",
    "    print('CLAHE Image: ')\n",
    "    \n",
    "    ycrcb = cv2.cvtColor(resized, cv2.COLOR_BGR2YCR_CB)\n",
    "    channels = cv2.split(ycrcb)\n",
    "    clahe = cv2.createCLAHE(clipLimit=2.0, tileGridSize=(8,8))\n",
    "    clahe.apply(channels[0], channels[0])\n",
    "    cv2.merge(channels, ycrcb)\n",
    "    cv2.cvtColor(ycrcb, cv2.COLOR_YCR_CB2BGR, resized)\n",
    "    \n",
    "    plt.imshow(resized)\n",
    "    plt.show()\n",
    "    \n",
    "    print('RGB to HSV: ')\n",
    "    print(resized)\n",
    "    img_rgb_hsv = cv2.cvtColor(resized, cv2.COLOR_BGR2HSV)\n",
    "    plt.imshow(img_rgb_hsv)\n",
    "    plt.show()\n",
    "    \n",
    "    \n",
    "#     print('Yellow color: ')\n",
    "#     yellow_lower = np.array([20, 100, 100])\n",
    "#     yellow_upper = np.array([30, 255, 255])\n",
    "    \n",
    "#     mask_yellow = cv2.inRange(img_rgb_hsv, yellow_lower, yellow_upper)\n",
    "\n",
    "#     yellow_output = cv2.bitwise_and(img, img, mask=mask_yellow)\n",
    "\n",
    "#     yellow_ratio =(cv2.countNonZero(mask_yellow))/(img.size/3)\n",
    "    \n",
    "#     plt.imshow(mask_yellow)\n",
    "#     plt.show()\n",
    "    \n",
    "    print('Treshold image: ')\n",
    "    ret, img_treshold = cv2.threshold(resized,127,255, cv2.THRESH_BINARY_INV)\n",
    "    fig = plt.figure(figsize=(7,9),frameon=False)\n",
    "\n",
    "    ax = plt.Axes(fig, [0., 0., 1., 1.])\n",
    "    ax.set_axis_off()\n",
    "    fig.add_axes(ax)\n",
    "    rgbImg = cv2.cvtColor(img_treshold, cv2.COLOR_BGR2RGB)\n",
    "#     cv2.imwrite(os.path.join('train/busuk/' , 'waka.jpg'), rgbImg)\n",
    "    cv2.waitKey(0)\n",
    "    plt.imshow(img_treshold)\n",
    "    \n",
    "#     plt.savefig('testss.png')\n",
    "    plt.show()"
   ]
  },
  {
   "cell_type": "code",
   "execution_count": 26,
   "id": "52c4a42c",
   "metadata": {},
   "outputs": [
    {
     "name": "stdout",
     "output_type": "stream",
     "text": [
      "Resized Dimensions :  (1250, 2800, 3)\n"
     ]
    },
    {
     "data": {
      "image/png": "[encoded data removed]",
      "text/plain": [
       "<Figure size 432x288 with 1 Axes>"
      ]
     },
     "metadata": {
      "needs_background": "light"
     },
     "output_type": "display_data"
    },
    {
     "name": "stdout",
     "output_type": "stream",
     "text": [
      "Grayscale Image: \n"
     ]
    },
    {
     "data": {
      "image/png": "[encoded data removed]",
      "text/plain": [
       "<Figure size 432x288 with 1 Axes>"
      ]
     },
     "metadata": {
      "needs_background": "light"
     },
     "output_type": "display_data"
    },
    {
     "name": "stdout",
     "output_type": "stream",
     "text": [
      "CLAHE Image: \n"
     ]
    },
    {
     "data": {
      "image/png": "[encoded data removed]",
      "text/plain": [
       "<Figure size 432x288 with 1 Axes>"
      ]
     },
     "metadata": {
      "needs_background": "light"
     },
     "output_type": "display_data"
    },
    {
     "name": "stdout",
     "output_type": "stream",
     "text": [
      "RGB to HSV: \n",
      "[[[250 250 250]\n",
      "  [250 250 250]\n",
      "  [250 250 250]\n",
      "  ...\n",
      "  [241 241 241]\n",
      "  [242 242 242]\n",
      "  [242 242 242]]\n",
      "\n",
      " [[250 250 250]\n",
      "  [250 250 250]\n",
      "  [250 250 250]\n",
      "  ...\n",
      "  [241 241 241]\n",
      "  [241 241 241]\n",
      "  [242 242 242]]\n",
      "\n",
      " [[251 251 251]\n",
      "  [250 250 250]\n",
      "  [250 250 250]\n",
      "  ...\n",
      "  [241 241 241]\n",
      "  [241 241 241]\n",
      "  [242 242 242]]\n",
      "\n",
      " ...\n",
      "\n",
      " [[ 36  36  36]\n",
      "  [ 36  36  36]\n",
      "  [ 33  33  33]\n",
      "  ...\n",
      "  [  8   8   8]\n",
      "  [ 11  11  11]\n",
      "  [ 11  11  11]]\n",
      "\n",
      " [[ 36  36  36]\n",
      "  [ 33  33  33]\n",
      "  [ 33  33  33]\n",
      "  ...\n",
      "  [  8   8   8]\n",
      "  [ 11  11  11]\n",
      "  [ 11  11  11]]\n",
      "\n",
      " [[ 33  33  33]\n",
      "  [ 33  33  33]\n",
      "  [ 33  33  33]\n",
      "  ...\n",
      "  [  8   8   8]\n",
      "  [  8   8   8]\n",
      "  [  8   8   8]]]\n"
     ]
    },
    {
     "data": {
      "image/png": "[encoded data removed]",
      "text/plain": [
       "<Figure size 432x288 with 1 Axes>"
      ]
     },
     "metadata": {
      "needs_background": "light"
     },
     "output_type": "display_data"
    },
    {
     "name": "stdout",
     "output_type": "stream",
     "text": [
      "Treshold image: \n"
     ]
    },
    {
     "data": {
      "image/png": "[encoded data removed]",
      "text/plain": [
       "<Figure size 504x648 with 1 Axes>"
      ]
     },
     "metadata": {
      "needs_background": "light"
     },
     "output_type": "display_data"
    }
   ],
   "source": [
    "scaleImage(df_data['path'][19])"
   ]
  },
  {
   "cell_type": "code",
   "execution_count": null,
   "id": "a0333dbe",
   "metadata": {},
   "outputs": [],
   "source": [
    "def threshold(img):\n",
    "    ret, img_treshold = cv2.threshold(img,127,255, cv2.THRESH_BINARY_INV)\n",
    "    return img_treshold"
   ]
  },
  {
   "cell_type": "code",
   "execution_count": 68,
   "id": "728812c9",
   "metadata": {},
   "outputs": [],
   "source": [
    "def read_img(path):\n",
    "    img = cv2.imread(path)\n",
    "#     img = cv2.medianBlur(img,5)\n",
    "    return img"
   ]
  },
  {
   "cell_type": "code",
   "execution_count": 69,
   "id": "266f6803",
   "metadata": {},
   "outputs": [],
   "source": [
    "def scale_img(img,scale=10):\n",
    "    scale_percent = scale # percent of original size\n",
    "    width = int(img.shape[1] * scale_percent / 100)\n",
    "    height = int(img.shape[0] * scale_percent / 100)\n",
    "    dim = (width, height)\n",
    "\n",
    "    # resize image\n",
    "    resized = cv2.resize(img, (390,220),cv2.COLOR_BGR2RGB)\n",
    "    return resized"
   ]
  },
  {
   "cell_type": "code",
   "execution_count": 70,
   "id": "a6091c31",
   "metadata": {},
   "outputs": [],
   "source": [
    "def grayscale(img):\n",
    "    img_gray =  cv2.cvtColor(img, cv2.COLOR_BGR2GRAY)\n",
    "    return img_gray"
   ]
  },
  {
   "cell_type": "code",
   "execution_count": 71,
   "id": "7dcd6847",
   "metadata": {},
   "outputs": [],
   "source": [
    "def rgb_hsv(img):\n",
    "    img_rgb_hsv = cv2.cvtColor(img, cv2.COLOR_BGR2HSV)\n",
    "    return img_rgb_hsv"
   ]
  },
  {
   "cell_type": "code",
   "execution_count": 72,
   "id": "2b9711bc",
   "metadata": {},
   "outputs": [],
   "source": [
    "def clahe(img):\n",
    "    ycrcb = cv2.cvtColor(img, cv2.COLOR_BGR2YCR_CB)\n",
    "    channels = cv2.split(ycrcb)\n",
    "    clahe = cv2.createCLAHE(clipLimit=2.0, tileGridSize=(8,8))\n",
    "    clahe.apply(channels[0], channels[0])\n",
    "    cv2.merge(channels, ycrcb)\n",
    "    cv2.cvtColor(ycrcb, cv2.COLOR_YCR_CB2BGR, img)\n",
    "    \n",
    "    return img"
   ]
  },
  {
   "cell_type": "code",
   "execution_count": 73,
   "id": "e8bcc01e",
   "metadata": {},
   "outputs": [
    {
     "data": {
      "text/html": [
       "<div>\n",
       "<style scoped>\n",
       "    .dataframe tbody tr th:only-of-type {\n",
       "        vertical-align: middle;\n",
       "    }\n",
       "\n",
       "    .dataframe tbody tr th {\n",
       "        vertical-align: top;\n",
       "    }\n",
       "\n",
       "    .dataframe thead th {\n",
       "        text-align: right;\n",
       "    }\n",
       "</style>\n",
       "<table border=\"1\" class=\"dataframe\">\n",
       "  <thead>\n",
       "    <tr style=\"text-align: right;\">\n",
       "      <th></th>\n",
       "      <th>path</th>\n",
       "      <th>label</th>\n",
       "    </tr>\n",
       "  </thead>\n",
       "  <tbody>\n",
       "    <tr>\n",
       "      <th>0</th>\n",
       "      <td>data_baru/training/C1/1- kanan c1_01.png</td>\n",
       "      <td>C1</td>\n",
       "    </tr>\n",
       "    <tr>\n",
       "      <th>1</th>\n",
       "      <td>data_baru/training/C1/kanan-c1-17.png</td>\n",
       "      <td>C1</td>\n",
       "    </tr>\n",
       "    <tr>\n",
       "      <th>2</th>\n",
       "      <td>data_baru/training/C1/kanan-c1-18.png</td>\n",
       "      <td>C1</td>\n",
       "    </tr>\n",
       "    <tr>\n",
       "      <th>3</th>\n",
       "      <td>data_baru/training/C1/kanan-c1-19.png</td>\n",
       "      <td>C1</td>\n",
       "    </tr>\n",
       "    <tr>\n",
       "      <th>4</th>\n",
       "      <td>data_baru/training/C1/kanan-c1-20.png</td>\n",
       "      <td>C1</td>\n",
       "    </tr>\n",
       "    <tr>\n",
       "      <th>...</th>\n",
       "      <td>...</td>\n",
       "      <td>...</td>\n",
       "    </tr>\n",
       "    <tr>\n",
       "      <th>300</th>\n",
       "      <td>data_baru/training/C3/kiri-c3-24.jpg</td>\n",
       "      <td>C3</td>\n",
       "    </tr>\n",
       "    <tr>\n",
       "      <th>301</th>\n",
       "      <td>data_baru/training/C3/kiri-c3-25.jpg</td>\n",
       "      <td>C3</td>\n",
       "    </tr>\n",
       "    <tr>\n",
       "      <th>302</th>\n",
       "      <td>data_baru/training/C3/kiri-c3-26.jpg</td>\n",
       "      <td>C3</td>\n",
       "    </tr>\n",
       "    <tr>\n",
       "      <th>303</th>\n",
       "      <td>data_baru/training/C3/kiri-c3-30.jpg</td>\n",
       "      <td>C3</td>\n",
       "    </tr>\n",
       "    <tr>\n",
       "      <th>304</th>\n",
       "      <td>data_baru/training/C3/kiri_c3_01.png</td>\n",
       "      <td>C3</td>\n",
       "    </tr>\n",
       "  </tbody>\n",
       "</table>\n",
       "<p>305 rows × 2 columns</p>\n",
       "</div>"
      ],
      "text/plain": [
       "                                         path label\n",
       "0    data_baru/training/C1/1- kanan c1_01.png    C1\n",
       "1       data_baru/training/C1/kanan-c1-17.png    C1\n",
       "2       data_baru/training/C1/kanan-c1-18.png    C1\n",
       "3       data_baru/training/C1/kanan-c1-19.png    C1\n",
       "4       data_baru/training/C1/kanan-c1-20.png    C1\n",
       "..                                        ...   ...\n",
       "300      data_baru/training/C3/kiri-c3-24.jpg    C3\n",
       "301      data_baru/training/C3/kiri-c3-25.jpg    C3\n",
       "302      data_baru/training/C3/kiri-c3-26.jpg    C3\n",
       "303      data_baru/training/C3/kiri-c3-30.jpg    C3\n",
       "304      data_baru/training/C3/kiri_c3_01.png    C3\n",
       "\n",
       "[305 rows x 2 columns]"
      ]
     },
     "execution_count": 73,
     "metadata": {},
     "output_type": "execute_result"
    },
    {
     "data": {
      "image/png": "[encoded data removed]",
      "text/plain": [
       "<Figure size 432x288 with 1 Axes>"
      ]
     },
     "metadata": {
      "needs_background": "light"
     },
     "output_type": "display_data"
    }
   ],
   "source": [
    "newPathCSV = []\n",
    "newLabelCSV = []\n",
    "newDf = pd.DataFrame()\n",
    "for i in range(len(df_data)):\n",
    "    \n",
    "    FOLDER_TRAIN = 'data_baru/training/'\n",
    "    label = df_data['path'][i].split('/')[1]\n",
    "    fileName = df_data['path'][i].split('/')[2]\n",
    "    newPath = FOLDER_TRAIN+label+'/'\n",
    "    \n",
    "    img = read_img(df_data['path'][i])\n",
    "    img = scale_img(img)\n",
    "    img = clahe(img)\n",
    "    img = threshold(img)\n",
    "    plt.imshow(img)\n",
    "    rgbImg = cv2.cvtColor(img, cv2.COLOR_BGR2RGB)\n",
    "    cv2.imwrite(os.path.join(newPath , fileName), rgbImg)\n",
    "    cv2.waitKey(0)\n",
    "#     plt.savefig(newPath)\n",
    "    \n",
    "    newPathCSV.append(newPath+fileName)\n",
    "    newLabelCSV.append(label)\n",
    "    \n",
    "\n",
    "newDf['path'] = newPathCSV\n",
    "newDf['label'] = newLabelCSV\n",
    "\n",
    "newDf.to_csv('data/data_prepro.csv', columns=['path','label'],index=False)\n",
    "    \n",
    "newDf"
   ]
  },
  {
   "cell_type": "markdown",
   "id": "5977904e",
   "metadata": {},
   "source": [
    "## Data Augmentation"
   ]
  },
  {
   "cell_type": "markdown",
   "id": "4d25537f",
   "metadata": {},
   "source": [
    "### Rotate"
   ]
  },
  {
   "cell_type": "code",
   "execution_count": 97,
   "id": "3c5d4355",
   "metadata": {},
   "outputs": [
    {
     "data": {
      "text/html": [
       "<div>\n",
       "<style scoped>\n",
       "    .dataframe tbody tr th:only-of-type {\n",
       "        vertical-align: middle;\n",
       "    }\n",
       "\n",
       "    .dataframe tbody tr th {\n",
       "        vertical-align: top;\n",
       "    }\n",
       "\n",
       "    .dataframe thead th {\n",
       "        text-align: right;\n",
       "    }\n",
       "</style>\n",
       "<table border=\"1\" class=\"dataframe\">\n",
       "  <thead>\n",
       "    <tr style=\"text-align: right;\">\n",
       "      <th></th>\n",
       "      <th>path</th>\n",
       "      <th>label</th>\n",
       "    </tr>\n",
       "  </thead>\n",
       "  <tbody>\n",
       "    <tr>\n",
       "      <th>0</th>\n",
       "      <td>data_baru/training/C1/1- kanan c1_01.png</td>\n",
       "      <td>C1</td>\n",
       "    </tr>\n",
       "    <tr>\n",
       "      <th>1</th>\n",
       "      <td>data_baru/training/C1/kanan-c1-17.png</td>\n",
       "      <td>C1</td>\n",
       "    </tr>\n",
       "    <tr>\n",
       "      <th>2</th>\n",
       "      <td>data_baru/training/C1/kanan-c1-18.png</td>\n",
       "      <td>C1</td>\n",
       "    </tr>\n",
       "    <tr>\n",
       "      <th>3</th>\n",
       "      <td>data_baru/training/C1/kanan-c1-19.png</td>\n",
       "      <td>C1</td>\n",
       "    </tr>\n",
       "    <tr>\n",
       "      <th>4</th>\n",
       "      <td>data_baru/training/C1/kanan-c1-20.png</td>\n",
       "      <td>C1</td>\n",
       "    </tr>\n",
       "    <tr>\n",
       "      <th>...</th>\n",
       "      <td>...</td>\n",
       "      <td>...</td>\n",
       "    </tr>\n",
       "    <tr>\n",
       "      <th>300</th>\n",
       "      <td>data_baru/training/C3/kiri-c3-24.jpg</td>\n",
       "      <td>C3</td>\n",
       "    </tr>\n",
       "    <tr>\n",
       "      <th>301</th>\n",
       "      <td>data_baru/training/C3/kiri-c3-25.jpg</td>\n",
       "      <td>C3</td>\n",
       "    </tr>\n",
       "    <tr>\n",
       "      <th>302</th>\n",
       "      <td>data_baru/training/C3/kiri-c3-26.jpg</td>\n",
       "      <td>C3</td>\n",
       "    </tr>\n",
       "    <tr>\n",
       "      <th>303</th>\n",
       "      <td>data_baru/training/C3/kiri-c3-30.jpg</td>\n",
       "      <td>C3</td>\n",
       "    </tr>\n",
       "    <tr>\n",
       "      <th>304</th>\n",
       "      <td>data_baru/training/C3/kiri_c3_01.png</td>\n",
       "      <td>C3</td>\n",
       "    </tr>\n",
       "  </tbody>\n",
       "</table>\n",
       "<p>305 rows × 2 columns</p>\n",
       "</div>"
      ],
      "text/plain": [
       "                                         path label\n",
       "0    data_baru/training/C1/1- kanan c1_01.png    C1\n",
       "1       data_baru/training/C1/kanan-c1-17.png    C1\n",
       "2       data_baru/training/C1/kanan-c1-18.png    C1\n",
       "3       data_baru/training/C1/kanan-c1-19.png    C1\n",
       "4       data_baru/training/C1/kanan-c1-20.png    C1\n",
       "..                                        ...   ...\n",
       "300      data_baru/training/C3/kiri-c3-24.jpg    C3\n",
       "301      data_baru/training/C3/kiri-c3-25.jpg    C3\n",
       "302      data_baru/training/C3/kiri-c3-26.jpg    C3\n",
       "303      data_baru/training/C3/kiri-c3-30.jpg    C3\n",
       "304      data_baru/training/C3/kiri_c3_01.png    C3\n",
       "\n",
       "[305 rows x 2 columns]"
      ]
     },
     "execution_count": 97,
     "metadata": {},
     "output_type": "execute_result"
    }
   ],
   "source": [
    "df_aug = pd.read_csv(\"data/data_prepro.csv\")\n",
    "df_aug"
   ]
  },
  {
   "cell_type": "code",
   "execution_count": 129,
   "id": "1470a544",
   "metadata": {},
   "outputs": [],
   "source": [
    "file_C = []"
   ]
  },
  {
   "cell_type": "code",
   "execution_count": 130,
   "id": "8b5d7590",
   "metadata": {},
   "outputs": [],
   "source": [
    "for filename in os.listdir(\"data_baru/train/train/C3\"):\n",
    "    pathTrain = \"data_baru/train/train/C3/\"\n",
    "    filepath = pathTrain+filename\n",
    "    file_C.append(filepath)"
   ]
  },
  {
   "cell_type": "code",
   "execution_count": 131,
   "id": "26c5cae3",
   "metadata": {},
   "outputs": [
    {
     "data": {
      "text/plain": [
       "['data_baru/train/train/C3/kanan-c3-01.png',\n",
       " 'data_baru/train/train/C3/kanan-c3-02.jpg',\n",
       " 'data_baru/train/train/C3/kanan-c3-03.jpeg',\n",
       " 'data_baru/train/train/C3/kanan-c3-06.jpg',\n",
       " 'data_baru/train/train/C3/kanan-c3-07.png',\n",
       " 'data_baru/train/train/C3/kanan-c3-09.png',\n",
       " 'data_baru/train/train/C3/kanan-c3-10.png',\n",
       " 'data_baru/train/train/C3/kanan-c3-11.jpg',\n",
       " 'data_baru/train/train/C3/kanan-c3-119.jpg',\n",
       " 'data_baru/train/train/C3/kanan-c3-12.jpg',\n",
       " 'data_baru/train/train/C3/kanan-c3-13.jpg',\n",
       " 'data_baru/train/train/C3/kanan-c3-14.jpg',\n",
       " 'data_baru/train/train/C3/kanan-c3-15.jpg',\n",
       " 'data_baru/train/train/C3/kanan-c3-17.jpg',\n",
       " 'data_baru/train/train/C3/kanan-c3-20.jpg',\n",
       " 'data_baru/train/train/C3/kanan-c3-21.jpg',\n",
       " 'data_baru/train/train/C3/kanan-c3-22.jpg',\n",
       " 'data_baru/train/train/C3/kanan-c3-23.jpg',\n",
       " 'data_baru/train/train/C3/kanan-c3-24.jpg',\n",
       " 'data_baru/train/train/C3/kanan-c3-25.jpeg',\n",
       " 'data_baru/train/train/C3/kanan-c3-26.jpg',\n",
       " 'data_baru/train/train/C3/kanan-c3-27.jpg',\n",
       " 'data_baru/train/train/C3/kanan-c3-28.jpg',\n",
       " 'data_baru/train/train/C3/kanan-c3-29.jpg',\n",
       " 'data_baru/train/train/C3/kiri-c3-01.png',\n",
       " 'data_baru/train/train/C3/kiri-c3-02.jpg',\n",
       " 'data_baru/train/train/C3/kiri-c3-03.jpg',\n",
       " 'data_baru/train/train/C3/kiri-c3-04.png',\n",
       " 'data_baru/train/train/C3/kiri-c3-06.png',\n",
       " 'data_baru/train/train/C3/kiri-c3-07.png',\n",
       " 'data_baru/train/train/C3/kiri-c3-09.png',\n",
       " 'data_baru/train/train/C3/kiri-c3-10.png',\n",
       " 'data_baru/train/train/C3/kiri-c3-100.png',\n",
       " 'data_baru/train/train/C3/kiri-c3-11.png',\n",
       " 'data_baru/train/train/C3/kiri-c3-12.jpg',\n",
       " 'data_baru/train/train/C3/kiri-c3-13.jpg',\n",
       " 'data_baru/train/train/C3/kiri-c3-14.jpg',\n",
       " 'data_baru/train/train/C3/kiri-c3-15.jpg',\n",
       " 'data_baru/train/train/C3/kiri-c3-16.jpg',\n",
       " 'data_baru/train/train/C3/kiri-c3-17.jpg',\n",
       " 'data_baru/train/train/C3/kiri-c3-19.jpg',\n",
       " 'data_baru/train/train/C3/kiri-c3-20.jpg',\n",
       " 'data_baru/train/train/C3/kiri-c3-22.jpg',\n",
       " 'data_baru/train/train/C3/kiri-c3-24.jpg',\n",
       " 'data_baru/train/train/C3/kiri-c3-25.jpg',\n",
       " 'data_baru/train/train/C3/kiri-c3-26.jpg',\n",
       " 'data_baru/train/train/C3/kiri-c3-30.jpg',\n",
       " 'data_baru/train/train/C3/kiri_c3_01.png']"
      ]
     },
     "execution_count": 131,
     "metadata": {},
     "output_type": "execute_result"
    }
   ],
   "source": [
    "file_C"
   ]
  },
  {
   "cell_type": "code",
   "execution_count": 132,
   "id": "e752efae",
   "metadata": {},
   "outputs": [],
   "source": [
    "def rotate_image(image,angle):\n",
    "    \"\"\"\n",
    "    Rotates an image (angle in degrees) and expands image to avoid cropping\n",
    "    \"\"\"\n",
    "    height, width = image.shape[:2]  # image shape has 3 dimensions\n",
    "    image_center = (width / 2, height / 2)  # getRotationMatrix2D needs coordinates in reverse order (width, height) compared to shape\n",
    "    rotation_mat = cv2.getRotationMatrix2D(image_center, angle, 1.)\n",
    "    # rotation calculates the cos and sin, taking absolutes of those.\n",
    "    abs_cos = abs(rotation_mat[0, 0])\n",
    "    abs_sin = abs(rotation_mat[0, 1])\n",
    "    # find the new width and height bounds\n",
    "    bound_w = int(height * abs_sin + width * abs_cos)\n",
    "    bound_h = int(height * abs_cos + width * abs_sin)\n",
    "    # subtract old image center (bringing image back to origin) and adding the new image center coordinates\n",
    "    rotation_mat[0, 2] += bound_w / 2 - image_center[0]\n",
    "    rotation_mat[1, 2] += bound_h / 2 - image_center[1]\n",
    "    # rotate image with the new bounds and translated rotation matrix\n",
    "    rotated_mat = cv2.warpAffine(image, rotation_mat, (bound_w, bound_h))\n",
    "    return rotated_mat"
   ]
  },
  {
   "cell_type": "code",
   "execution_count": 133,
   "id": "213e0640",
   "metadata": {},
   "outputs": [
    {
     "name": "stdout",
     "output_type": "stream",
     "text": [
      "data_baru/train/train/C3/kanan-c3-01_340.png\n",
      "data_baru/train/train/C3/kanan-c3-02_180.jpg\n",
      "data_baru/train/train/C3/kanan-c3-03_340.jpeg\n",
      "data_baru/train/train/C3/kanan-c3-06_180.jpg\n",
      "data_baru/train/train/C3/kanan-c3-07_340.png\n",
      "data_baru/train/train/C3/kanan-c3-09_180.png\n",
      "data_baru/train/train/C3/kanan-c3-10_340.png\n",
      "data_baru/train/train/C3/kanan-c3-11_180.jpg\n",
      "data_baru/train/train/C3/kanan-c3-119_340.jpg\n",
      "data_baru/train/train/C3/kanan-c3-12_180.jpg\n",
      "data_baru/train/train/C3/kanan-c3-13_340.jpg\n",
      "data_baru/train/train/C3/kanan-c3-14_180.jpg\n",
      "data_baru/train/train/C3/kanan-c3-15_340.jpg\n",
      "data_baru/train/train/C3/kanan-c3-17_180.jpg\n",
      "data_baru/train/train/C3/kanan-c3-20_340.jpg\n",
      "data_baru/train/train/C3/kanan-c3-21_180.jpg\n",
      "data_baru/train/train/C3/kanan-c3-22_340.jpg\n",
      "data_baru/train/train/C3/kanan-c3-23_180.jpg\n",
      "data_baru/train/train/C3/kanan-c3-24_340.jpg\n",
      "data_baru/train/train/C3/kanan-c3-25_180.jpeg\n",
      "data_baru/train/train/C3/kanan-c3-26_340.jpg\n",
      "data_baru/train/train/C3/kanan-c3-27_180.jpg\n",
      "data_baru/train/train/C3/kanan-c3-28_340.jpg\n",
      "data_baru/train/train/C3/kanan-c3-29_180.jpg\n",
      "data_baru/train/train/C3/kiri-c3-01_340.png\n",
      "data_baru/train/train/C3/kiri-c3-02_180.jpg\n",
      "data_baru/train/train/C3/kiri-c3-03_340.jpg\n",
      "data_baru/train/train/C3/kiri-c3-04_180.png\n",
      "data_baru/train/train/C3/kiri-c3-06_340.png\n",
      "data_baru/train/train/C3/kiri-c3-07_180.png\n",
      "data_baru/train/train/C3/kiri-c3-09_340.png\n",
      "data_baru/train/train/C3/kiri-c3-10_180.png\n",
      "data_baru/train/train/C3/kiri-c3-100_340.png\n",
      "data_baru/train/train/C3/kiri-c3-11_180.png\n",
      "data_baru/train/train/C3/kiri-c3-12_340.jpg\n",
      "data_baru/train/train/C3/kiri-c3-13_180.jpg\n",
      "data_baru/train/train/C3/kiri-c3-14_340.jpg\n",
      "data_baru/train/train/C3/kiri-c3-15_180.jpg\n",
      "data_baru/train/train/C3/kiri-c3-16_340.jpg\n",
      "data_baru/train/train/C3/kiri-c3-17_180.jpg\n",
      "data_baru/train/train/C3/kiri-c3-19_340.jpg\n",
      "data_baru/train/train/C3/kiri-c3-20_180.jpg\n",
      "data_baru/train/train/C3/kiri-c3-22_340.jpg\n",
      "data_baru/train/train/C3/kiri-c3-24_180.jpg\n",
      "data_baru/train/train/C3/kiri-c3-25_340.jpg\n",
      "data_baru/train/train/C3/kiri-c3-26_180.jpg\n",
      "data_baru/train/train/C3/kiri-c3-30_340.jpg\n",
      "data_baru/train/train/C3/kiri_c3_01_180.png\n"
     ]
    },
    {
     "data": {
      "image/png": "[encoded data removed]",
      "text/plain": [
       "<Figure size 432x288 with 1 Axes>"
      ]
     },
     "metadata": {
      "needs_background": "light"
     },
     "output_type": "display_data"
    }
   ],
   "source": [
    "angles = [340, 180]\n",
    "for i in range(len(file_C)):\n",
    "    angle = i % 2\n",
    "    filename = file_C[i].split('.')[0]\n",
    "    ext = file_C[i].split('.')[-1]\n",
    "    newPath = filename+\"_\"+str(angles[angle])+\".\"+ext\n",
    "    print(newPath)\n",
    "    img = cv2.imread(file_C[i],1)\n",
    "    img_rotate = rotate_image(img, angles[angle])\n",
    "    plt.imshow(img_rotate)\n",
    "    cv2.imwrite(newPath, img_rotate)\n",
    "    cv2.waitKey(0)\n",
    "    "
   ]
  },
  {
   "cell_type": "markdown",
   "id": "b579bcf7",
   "metadata": {},
   "source": [
    "## Split dataset using K-Fold"
   ]
  },
  {
   "cell_type": "code",
   "execution_count": 74,
   "id": "7077afc5",
   "metadata": {},
   "outputs": [
    {
     "data": {
      "text/html": [
       "<div>\n",
       "<style scoped>\n",
       "    .dataframe tbody tr th:only-of-type {\n",
       "        vertical-align: middle;\n",
       "    }\n",
       "\n",
       "    .dataframe tbody tr th {\n",
       "        vertical-align: top;\n",
       "    }\n",
       "\n",
       "    .dataframe thead th {\n",
       "        text-align: right;\n",
       "    }\n",
       "</style>\n",
       "<table border=\"1\" class=\"dataframe\">\n",
       "  <thead>\n",
       "    <tr style=\"text-align: right;\">\n",
       "      <th></th>\n",
       "      <th>path</th>\n",
       "      <th>C1</th>\n",
       "      <th>C2</th>\n",
       "      <th>C3</th>\n",
       "      <th>fold_0</th>\n",
       "      <th>fold_1</th>\n",
       "      <th>fold_2</th>\n",
       "      <th>fold_3</th>\n",
       "      <th>fold_4</th>\n",
       "      <th>label</th>\n",
       "    </tr>\n",
       "  </thead>\n",
       "  <tbody>\n",
       "    <tr>\n",
       "      <th>0</th>\n",
       "      <td>data_baru/training/C1/1- kanan c1_01.png</td>\n",
       "      <td>1</td>\n",
       "      <td>0</td>\n",
       "      <td>0</td>\n",
       "      <td>0</td>\n",
       "      <td>1</td>\n",
       "      <td>0</td>\n",
       "      <td>0</td>\n",
       "      <td>0</td>\n",
       "      <td>C1</td>\n",
       "    </tr>\n",
       "    <tr>\n",
       "      <th>1</th>\n",
       "      <td>data_baru/training/C1/kanan-c1-17.png</td>\n",
       "      <td>1</td>\n",
       "      <td>0</td>\n",
       "      <td>0</td>\n",
       "      <td>1</td>\n",
       "      <td>0</td>\n",
       "      <td>0</td>\n",
       "      <td>0</td>\n",
       "      <td>0</td>\n",
       "      <td>C1</td>\n",
       "    </tr>\n",
       "    <tr>\n",
       "      <th>2</th>\n",
       "      <td>data_baru/training/C1/kanan-c1-18.png</td>\n",
       "      <td>1</td>\n",
       "      <td>0</td>\n",
       "      <td>0</td>\n",
       "      <td>0</td>\n",
       "      <td>0</td>\n",
       "      <td>1</td>\n",
       "      <td>0</td>\n",
       "      <td>0</td>\n",
       "      <td>C1</td>\n",
       "    </tr>\n",
       "    <tr>\n",
       "      <th>3</th>\n",
       "      <td>data_baru/training/C1/kanan-c1-19.png</td>\n",
       "      <td>1</td>\n",
       "      <td>0</td>\n",
       "      <td>0</td>\n",
       "      <td>0</td>\n",
       "      <td>1</td>\n",
       "      <td>0</td>\n",
       "      <td>0</td>\n",
       "      <td>0</td>\n",
       "      <td>C1</td>\n",
       "    </tr>\n",
       "    <tr>\n",
       "      <th>4</th>\n",
       "      <td>data_baru/training/C1/kanan-c1-20.png</td>\n",
       "      <td>1</td>\n",
       "      <td>0</td>\n",
       "      <td>0</td>\n",
       "      <td>0</td>\n",
       "      <td>0</td>\n",
       "      <td>0</td>\n",
       "      <td>1</td>\n",
       "      <td>0</td>\n",
       "      <td>C1</td>\n",
       "    </tr>\n",
       "    <tr>\n",
       "      <th>...</th>\n",
       "      <td>...</td>\n",
       "      <td>...</td>\n",
       "      <td>...</td>\n",
       "      <td>...</td>\n",
       "      <td>...</td>\n",
       "      <td>...</td>\n",
       "      <td>...</td>\n",
       "      <td>...</td>\n",
       "      <td>...</td>\n",
       "      <td>...</td>\n",
       "    </tr>\n",
       "    <tr>\n",
       "      <th>95</th>\n",
       "      <td>data_baru/training/C1/kiri-c1-46.jpg</td>\n",
       "      <td>1</td>\n",
       "      <td>0</td>\n",
       "      <td>0</td>\n",
       "      <td>0</td>\n",
       "      <td>0</td>\n",
       "      <td>0</td>\n",
       "      <td>0</td>\n",
       "      <td>1</td>\n",
       "      <td>C1</td>\n",
       "    </tr>\n",
       "    <tr>\n",
       "      <th>96</th>\n",
       "      <td>data_baru/training/C1/kiri-c1-47.jpg</td>\n",
       "      <td>1</td>\n",
       "      <td>0</td>\n",
       "      <td>0</td>\n",
       "      <td>0</td>\n",
       "      <td>0</td>\n",
       "      <td>0</td>\n",
       "      <td>0</td>\n",
       "      <td>1</td>\n",
       "      <td>C1</td>\n",
       "    </tr>\n",
       "    <tr>\n",
       "      <th>97</th>\n",
       "      <td>data_baru/training/C1/kiri-c1-48.jpg</td>\n",
       "      <td>1</td>\n",
       "      <td>0</td>\n",
       "      <td>0</td>\n",
       "      <td>0</td>\n",
       "      <td>0</td>\n",
       "      <td>0</td>\n",
       "      <td>0</td>\n",
       "      <td>1</td>\n",
       "      <td>C1</td>\n",
       "    </tr>\n",
       "    <tr>\n",
       "      <th>98</th>\n",
       "      <td>data_baru/training/C1/kiri-c1-49.jpg</td>\n",
       "      <td>1</td>\n",
       "      <td>0</td>\n",
       "      <td>0</td>\n",
       "      <td>0</td>\n",
       "      <td>0</td>\n",
       "      <td>1</td>\n",
       "      <td>0</td>\n",
       "      <td>0</td>\n",
       "      <td>C1</td>\n",
       "    </tr>\n",
       "    <tr>\n",
       "      <th>99</th>\n",
       "      <td>data_baru/training/C1/kiri-c1-50.jpg</td>\n",
       "      <td>1</td>\n",
       "      <td>0</td>\n",
       "      <td>0</td>\n",
       "      <td>0</td>\n",
       "      <td>0</td>\n",
       "      <td>0</td>\n",
       "      <td>1</td>\n",
       "      <td>0</td>\n",
       "      <td>C1</td>\n",
       "    </tr>\n",
       "  </tbody>\n",
       "</table>\n",
       "<p>100 rows × 10 columns</p>\n",
       "</div>"
      ],
      "text/plain": [
       "                                        path  C1  C2  C3  fold_0  fold_1  \\\n",
       "0   data_baru/training/C1/1- kanan c1_01.png   1   0   0       0       1   \n",
       "1      data_baru/training/C1/kanan-c1-17.png   1   0   0       1       0   \n",
       "2      data_baru/training/C1/kanan-c1-18.png   1   0   0       0       0   \n",
       "3      data_baru/training/C1/kanan-c1-19.png   1   0   0       0       1   \n",
       "4      data_baru/training/C1/kanan-c1-20.png   1   0   0       0       0   \n",
       "..                                       ...  ..  ..  ..     ...     ...   \n",
       "95      data_baru/training/C1/kiri-c1-46.jpg   1   0   0       0       0   \n",
       "96      data_baru/training/C1/kiri-c1-47.jpg   1   0   0       0       0   \n",
       "97      data_baru/training/C1/kiri-c1-48.jpg   1   0   0       0       0   \n",
       "98      data_baru/training/C1/kiri-c1-49.jpg   1   0   0       0       0   \n",
       "99      data_baru/training/C1/kiri-c1-50.jpg   1   0   0       0       0   \n",
       "\n",
       "    fold_2  fold_3  fold_4 label  \n",
       "0        0       0       0    C1  \n",
       "1        0       0       0    C1  \n",
       "2        1       0       0    C1  \n",
       "3        0       0       0    C1  \n",
       "4        0       1       0    C1  \n",
       "..     ...     ...     ...   ...  \n",
       "95       0       0       1    C1  \n",
       "96       0       0       1    C1  \n",
       "97       0       0       1    C1  \n",
       "98       1       0       0    C1  \n",
       "99       0       1       0    C1  \n",
       "\n",
       "[100 rows x 10 columns]"
      ]
     },
     "execution_count": 74,
     "metadata": {},
     "output_type": "execute_result"
    }
   ],
   "source": [
    "def split_df(df):\n",
    "  kf = MultilabelStratifiedKFold(n_splits=5, shuffle=True, random_state=89)\n",
    "  df['id'] = df.index\n",
    "  annot_pivot = pd.pivot_table(df, index=['path'], columns=['label'], values='id', fill_value=0, aggfunc='count').reset_index().rename_axis(None, axis=1)\n",
    "  for fold, (train_idx, val_idx) in enumerate(kf.split(annot_pivot, annot_pivot.iloc[:, 1:(1+df['label'].nunique())])):\n",
    "    annot_pivot[f'fold_{fold}'] = 0\n",
    "    annot_pivot.loc[val_idx, f'fold_{fold}'] = 1\n",
    "  return annot_pivot\n",
    "\n",
    "size_df = pd.read_csv('data/data_prepro.csv')\n",
    "size_df.columns = ['path', 'label']\n",
    "\n",
    "fold_csv = split_df(df_aug)\n",
    "fold_csv = fold_csv.merge(size_df, on='path', how='left')\n",
    "fold_csv.head(100)"
   ]
  },
  {
   "cell_type": "code",
   "execution_count": 75,
   "id": "9c01da8d",
   "metadata": {},
   "outputs": [],
   "source": [
    "list_image_train = fold_csv[fold_csv[f'fold_{1}'] == 0]['path']\n",
    "train_df = df_aug[df_aug['path'].isin(list_image_train)].reset_index(drop=True)\n",
    "val_df = df_aug[~df_aug['path'].isin(list_image_train)].reset_index(drop=True)"
   ]
  },
  {
   "cell_type": "code",
   "execution_count": 76,
   "id": "6baf5f20",
   "metadata": {},
   "outputs": [
    {
     "data": {
      "text/html": [
       "<div>\n",
       "<style scoped>\n",
       "    .dataframe tbody tr th:only-of-type {\n",
       "        vertical-align: middle;\n",
       "    }\n",
       "\n",
       "    .dataframe tbody tr th {\n",
       "        vertical-align: top;\n",
       "    }\n",
       "\n",
       "    .dataframe thead th {\n",
       "        text-align: right;\n",
       "    }\n",
       "</style>\n",
       "<table border=\"1\" class=\"dataframe\">\n",
       "  <thead>\n",
       "    <tr style=\"text-align: right;\">\n",
       "      <th></th>\n",
       "      <th>path</th>\n",
       "      <th>label</th>\n",
       "      <th>id</th>\n",
       "    </tr>\n",
       "  </thead>\n",
       "  <tbody>\n",
       "    <tr>\n",
       "      <th>0</th>\n",
       "      <td>data_baru/training/C1/kanan-c1-17.png</td>\n",
       "      <td>C1</td>\n",
       "      <td>1</td>\n",
       "    </tr>\n",
       "    <tr>\n",
       "      <th>1</th>\n",
       "      <td>data_baru/training/C1/kanan-c1-18.png</td>\n",
       "      <td>C1</td>\n",
       "      <td>2</td>\n",
       "    </tr>\n",
       "    <tr>\n",
       "      <th>2</th>\n",
       "      <td>data_baru/training/C1/kanan-c1-20.png</td>\n",
       "      <td>C1</td>\n",
       "      <td>4</td>\n",
       "    </tr>\n",
       "    <tr>\n",
       "      <th>3</th>\n",
       "      <td>data_baru/training/C1/kanan-c1-21.png</td>\n",
       "      <td>C1</td>\n",
       "      <td>5</td>\n",
       "    </tr>\n",
       "    <tr>\n",
       "      <th>4</th>\n",
       "      <td>data_baru/training/C1/kanan-c1-22.png</td>\n",
       "      <td>C1</td>\n",
       "      <td>6</td>\n",
       "    </tr>\n",
       "    <tr>\n",
       "      <th>...</th>\n",
       "      <td>...</td>\n",
       "      <td>...</td>\n",
       "      <td>...</td>\n",
       "    </tr>\n",
       "    <tr>\n",
       "      <th>239</th>\n",
       "      <td>data_baru/training/C3/kiri-c3-24.jpg</td>\n",
       "      <td>C3</td>\n",
       "      <td>300</td>\n",
       "    </tr>\n",
       "    <tr>\n",
       "      <th>240</th>\n",
       "      <td>data_baru/training/C3/kiri-c3-25.jpg</td>\n",
       "      <td>C3</td>\n",
       "      <td>301</td>\n",
       "    </tr>\n",
       "    <tr>\n",
       "      <th>241</th>\n",
       "      <td>data_baru/training/C3/kiri-c3-26.jpg</td>\n",
       "      <td>C3</td>\n",
       "      <td>302</td>\n",
       "    </tr>\n",
       "    <tr>\n",
       "      <th>242</th>\n",
       "      <td>data_baru/training/C3/kiri-c3-30.jpg</td>\n",
       "      <td>C3</td>\n",
       "      <td>303</td>\n",
       "    </tr>\n",
       "    <tr>\n",
       "      <th>243</th>\n",
       "      <td>data_baru/training/C3/kiri_c3_01.png</td>\n",
       "      <td>C3</td>\n",
       "      <td>304</td>\n",
       "    </tr>\n",
       "  </tbody>\n",
       "</table>\n",
       "<p>244 rows × 3 columns</p>\n",
       "</div>"
      ],
      "text/plain": [
       "                                      path label   id\n",
       "0    data_baru/training/C1/kanan-c1-17.png    C1    1\n",
       "1    data_baru/training/C1/kanan-c1-18.png    C1    2\n",
       "2    data_baru/training/C1/kanan-c1-20.png    C1    4\n",
       "3    data_baru/training/C1/kanan-c1-21.png    C1    5\n",
       "4    data_baru/training/C1/kanan-c1-22.png    C1    6\n",
       "..                                     ...   ...  ...\n",
       "239   data_baru/training/C3/kiri-c3-24.jpg    C3  300\n",
       "240   data_baru/training/C3/kiri-c3-25.jpg    C3  301\n",
       "241   data_baru/training/C3/kiri-c3-26.jpg    C3  302\n",
       "242   data_baru/training/C3/kiri-c3-30.jpg    C3  303\n",
       "243   data_baru/training/C3/kiri_c3_01.png    C3  304\n",
       "\n",
       "[244 rows x 3 columns]"
      ]
     },
     "execution_count": 76,
     "metadata": {},
     "output_type": "execute_result"
    }
   ],
   "source": [
    "train_df"
   ]
  },
  {
   "cell_type": "code",
   "execution_count": 80,
   "id": "fe5149c8",
   "metadata": {},
   "outputs": [],
   "source": [
    "def write_train_list(series):\n",
    "    for path in series:\n",
    "        split_path = path.split(\"/\")\n",
    "        filename = split_path[-1]\n",
    "        loc = split_path[2]\n",
    "        target = \"data_baru/train/train/\"+loc+\"/\"+filename\n",
    "        print(target)\n",
    "        if os.path.exists(path):    \n",
    "          shutil.copyfile(path, target)"
   ]
  },
  {
   "cell_type": "code",
   "execution_count": 81,
   "id": "fb20a517",
   "metadata": {},
   "outputs": [],
   "source": [
    "tr_series = train_df.path.unique() \n",
    "val_series = val_df.path.unique()"
   ]
  },
  {
   "cell_type": "code",
   "execution_count": 82,
   "id": "7f4542ef",
   "metadata": {},
   "outputs": [
    {
     "name": "stdout",
     "output_type": "stream",
     "text": [
      "data_baru/train/train/C1/kanan-c1-17.png\n",
      "data_baru/train/train/C1/kanan-c1-18.png\n",
      "data_baru/train/train/C1/kanan-c1-20.png\n",
      "data_baru/train/train/C1/kanan-c1-21.png\n",
      "data_baru/train/train/C1/kanan-c1-22.png\n",
      "data_baru/train/train/C1/kanan-c1-24.png\n",
      "data_baru/train/train/C1/kanan-c1-25.png\n",
      "data_baru/train/train/C1/kanan-c1-26.png\n",
      "data_baru/train/train/C1/kanan-c1-28.png\n",
      "data_baru/train/train/C1/kanan-c1-29.png\n",
      "data_baru/train/train/C1/kanan-c1-30.png\n",
      "data_baru/train/train/C1/kanan-c1-31.png\n",
      "data_baru/train/train/C1/kanan-c1-32.png\n",
      "data_baru/train/train/C1/kanan-c1-34.png\n",
      "data_baru/train/train/C1/kanan-c1-35.png\n",
      "data_baru/train/train/C1/kanan-c1-36.png\n",
      "data_baru/train/train/C1/kanan-c1-37.png\n",
      "data_baru/train/train/C1/kanan-c1-38.png\n",
      "data_baru/train/train/C1/kanan-c1-40.png\n",
      "data_baru/train/train/C1/kanan-c1-42.png\n",
      "data_baru/train/train/C1/kanan-c1-43.png\n",
      "data_baru/train/train/C1/kanan-c1-44.png\n",
      "data_baru/train/train/C1/kanan-c1-45.jpg\n",
      "data_baru/train/train/C1/kanan-c1-47.jpg\n",
      "data_baru/train/train/C1/kanan-c1-49.jpg\n",
      "data_baru/train/train/C1/kanan-c1-50.jpg\n",
      "data_baru/train/train/C1/kanan-c1-51.jpg\n",
      "data_baru/train/train/C1/kanan-c1-53.jpg\n",
      "data_baru/train/train/C1/kanan-c1-54.jpg\n",
      "data_baru/train/train/C1/kanan-c1-55.jpg\n",
      "data_baru/train/train/C1/kanan-c1-56.jpg\n",
      "data_baru/train/train/C1/kanan-c1-57.jpg\n",
      "data_baru/train/train/C1/kanan-c1-58.jpg\n",
      "data_baru/train/train/C1/kanan-c1-59.jpg\n",
      "data_baru/train/train/C1/kanan-c1-60.jpg\n",
      "data_baru/train/train/C1/kanan-c1-62.jpg\n",
      "data_baru/train/train/C1/kanan-c1-63.jpg\n",
      "data_baru/train/train/C1/kanan-c1-64.jpg\n",
      "data_baru/train/train/C1/kanan-c1-65.jpg\n",
      "data_baru/train/train/C1/kanan-c1-66.jpg\n",
      "data_baru/train/train/C1/kanan-c1-67.jpeg\n",
      "data_baru/train/train/C1/kanan-c1.png\n",
      "data_baru/train/train/C1/kanan_c1-15.png\n",
      "data_baru/train/train/C1/kanan_c1_03.png\n",
      "data_baru/train/train/C1/kanan_c1_05.png\n",
      "data_baru/train/train/C1/kanan_c1_07.png\n",
      "data_baru/train/train/C1/kanan_c1_08.png\n",
      "data_baru/train/train/C1/kanan_c1_10.png\n",
      "data_baru/train/train/C1/kanan_c1_11.png\n",
      "data_baru/train/train/C1/kanan_c1_12.png\n",
      "data_baru/train/train/C1/kanan_c1_13.png\n",
      "data_baru/train/train/C1/kanan_c1_15.png\n",
      "data_baru/train/train/C1/kanana-c1-48.jpg\n",
      "data_baru/train/train/C1/kiri-c1-18.png\n",
      "data_baru/train/train/C1/kiri-c1-20.png\n",
      "data_baru/train/train/C1/kiri-c1-21.png\n",
      "data_baru/train/train/C1/kiri-c1-22.png\n",
      "data_baru/train/train/C1/kiri-c1-23.png\n",
      "data_baru/train/train/C1/kiri-c1-24.png\n",
      "data_baru/train/train/C1/kiri-c1-25.png\n",
      "data_baru/train/train/C1/kiri-c1-26.png\n",
      "data_baru/train/train/C1/kiri-c1-28.png\n",
      "data_baru/train/train/C1/kiri-c1-29.png\n",
      "data_baru/train/train/C1/kiri-c1-30.png\n",
      "data_baru/train/train/C1/kiri-c1-31.png\n",
      "data_baru/train/train/C1/kiri-c1-33.png\n",
      "data_baru/train/train/C1/kiri-c1-34.png\n",
      "data_baru/train/train/C1/kiri-c1-35.png\n",
      "data_baru/train/train/C1/kiri-c1-36.png\n",
      "data_baru/train/train/C1/kiri-c1-37.jpg\n",
      "data_baru/train/train/C1/kiri-c1-39.jpg\n",
      "data_baru/train/train/C1/kiri-c1-41.jpg\n",
      "data_baru/train/train/C1/kiri-c1-42.jpg\n",
      "data_baru/train/train/C1/kiri-c1-43.jpg\n",
      "data_baru/train/train/C1/kiri-c1-44.jpg\n",
      "data_baru/train/train/C1/kiri-c1-45.jpg\n",
      "data_baru/train/train/C1/kiri-c1-46.jpg\n",
      "data_baru/train/train/C1/kiri-c1-47.jpg\n",
      "data_baru/train/train/C1/kiri-c1-48.jpg\n",
      "data_baru/train/train/C1/kiri-c1-49.jpg\n",
      "data_baru/train/train/C1/kiri-c1-50.jpg\n",
      "data_baru/train/train/C1/kiri-c1-51.jpg\n",
      "data_baru/train/train/C1/kiri-c1-52.jpg\n",
      "data_baru/train/train/C1/kiri-c1-54.jpeg\n",
      "data_baru/train/train/C1/kiri-c1-55.jpeg\n",
      "data_baru/train/train/C1/kiri-c1-56.jpg\n",
      "data_baru/train/train/C1/kiri-c1-57.jpg\n",
      "data_baru/train/train/C1/kiri-c1-59.jpg\n",
      "data_baru/train/train/C1/kiri-c1-61.jpg\n",
      "data_baru/train/train/C1/kiri-c1-62.jpeg\n",
      "data_baru/train/train/C1/kiri-c1-kiri.jpg\n",
      "data_baru/train/train/C1/kiri-c1.png\n",
      "data_baru/train/train/C1/kiri-c118.png\n",
      "data_baru/train/train/C1/kiri_c1_02.png\n",
      "data_baru/train/train/C1/kiri_c1_06.png\n",
      "data_baru/train/train/C1/kiri_c1_08.png\n",
      "data_baru/train/train/C1/kiri_c1_09.png\n",
      "data_baru/train/train/C1/kiri_c1_10.png\n",
      "data_baru/train/train/C1/kiri_c1_11.png\n",
      "data_baru/train/train/C1/kiri_c1_16.png\n",
      "data_baru/train/train/C2/kanan-c2-01.jpg\n",
      "data_baru/train/train/C2/kanan-c2-02.jpeg\n",
      "data_baru/train/train/C2/kanan-c2-03.jpg\n",
      "data_baru/train/train/C2/kanan-c2-04.png\n",
      "data_baru/train/train/C2/kanan-c2-05.png\n",
      "data_baru/train/train/C2/kanan-c2-07.png\n",
      "data_baru/train/train/C2/kanan-c2-08.png\n",
      "data_baru/train/train/C2/kanan-c2-09.png\n",
      "data_baru/train/train/C2/kanan-c2-10.jpg\n",
      "data_baru/train/train/C2/kanan-c2-10.png\n",
      "data_baru/train/train/C2/kanan-c2-11.png\n",
      "data_baru/train/train/C2/kanan-c2-12.png\n",
      "data_baru/train/train/C2/kanan-c2-13.png\n",
      "data_baru/train/train/C2/kanan-c2-14.png\n",
      "data_baru/train/train/C2/kanan-c2-15.png\n",
      "data_baru/train/train/C2/kanan-c2-16.png\n",
      "data_baru/train/train/C2/kanan-c2-17.png\n",
      "data_baru/train/train/C2/kanan-c2-18.png\n",
      "data_baru/train/train/C2/kanan-c2-19.png\n",
      "data_baru/train/train/C2/kanan-c2-20.png\n",
      "data_baru/train/train/C2/kanan-c2-21.png\n",
      "data_baru/train/train/C2/kanan-c2-22.png\n",
      "data_baru/train/train/C2/kanan-c2-23.png\n",
      "data_baru/train/train/C2/kanan-c2-24.png\n",
      "data_baru/train/train/C2/kanan-c2-26.png\n",
      "data_baru/train/train/C2/kanan-c2-27.png\n",
      "data_baru/train/train/C2/kanan-c2-29.jpg\n",
      "data_baru/train/train/C2/kanan-c2-30.jpg\n",
      "data_baru/train/train/C2/kanan-c2-34.jpg\n",
      "data_baru/train/train/C2/kanan-c2-35.jpg\n",
      "data_baru/train/train/C2/kanan-c2-36.jpg\n",
      "data_baru/train/train/C2/kanan-c2-37.jpg\n",
      "data_baru/train/train/C2/kanan-c2-39.jpg\n",
      "data_baru/train/train/C2/kanan-c2-41.jpg\n",
      "data_baru/train/train/C2/kanan-c2-43.jpg\n",
      "data_baru/train/train/C2/kanan-c2-45.jpeg\n",
      "data_baru/train/train/C2/kanan-c2-45.jpg\n",
      "data_baru/train/train/C2/kanan-c2-46.jpeg\n",
      "data_baru/train/train/C2/kanan-c2-47.jpeg\n",
      "data_baru/train/train/C2/kanan-c2-51.jpg\n",
      "data_baru/train/train/C2/kanan-c2-52.jpg\n",
      "data_baru/train/train/C2/kanan-c2-53.jpg\n",
      "data_baru/train/train/C2/kanan-c2-54.jpg\n",
      "data_baru/train/train/C2/kanan-c2-55.jpg\n",
      "data_baru/train/train/C2/kanan-c2-56.jpg\n",
      "data_baru/train/train/C2/kanan-c2-57.jpg\n",
      "data_baru/train/train/C2/kiri-c2-01.png\n",
      "data_baru/train/train/C2/kiri-c2-02.jpg\n",
      "data_baru/train/train/C2/kiri-c2-03.png\n",
      "data_baru/train/train/C2/kiri-c2-04.png\n",
      "data_baru/train/train/C2/kiri-c2-05.png\n",
      "data_baru/train/train/C2/kiri-c2-06.png\n",
      "data_baru/train/train/C2/kiri-c2-07.png\n",
      "data_baru/train/train/C2/kiri-c2-08.png\n",
      "data_baru/train/train/C2/kiri-c2-09.png\n",
      "data_baru/train/train/C2/kiri-c2-10.png\n",
      "data_baru/train/train/C2/kiri-c2-11.png\n",
      "data_baru/train/train/C2/kiri-c2-12.png\n",
      "data_baru/train/train/C2/kiri-c2-14.png\n",
      "data_baru/train/train/C2/kiri-c2-15.png\n",
      "data_baru/train/train/C2/kiri-c2-16.png\n",
      "data_baru/train/train/C2/kiri-c2-17.png\n",
      "data_baru/train/train/C2/kiri-c2-18.png\n",
      "data_baru/train/train/C2/kiri-c2-19.png\n",
      "data_baru/train/train/C2/kiri-c2-20.jpg\n",
      "data_baru/train/train/C2/kiri-c2-20.png\n",
      "data_baru/train/train/C2/kiri-c2-21.png\n",
      "data_baru/train/train/C2/kiri-c2-22.jpg\n",
      "data_baru/train/train/C2/kiri-c2-24.jpg\n",
      "data_baru/train/train/C2/kiri-c2-25.jpg\n",
      "data_baru/train/train/C2/kiri-c2-26.jpg\n",
      "data_baru/train/train/C2/kiri-c2-27.jpg\n",
      "data_baru/train/train/C2/kiri-c2-28.jpg\n",
      "data_baru/train/train/C2/kiri-c2-29.jpg\n",
      "data_baru/train/train/C2/kiri-c2-30.jpg\n",
      "data_baru/train/train/C2/kiri-c2-31.jpg\n",
      "data_baru/train/train/C2/kiri-c2-32.jpg\n",
      "data_baru/train/train/C2/kiri-c2-33.jpg\n",
      "data_baru/train/train/C2/kiri-c2-35.jpg\n",
      "data_baru/train/train/C2/kiri-c2-36.jpg\n",
      "data_baru/train/train/C2/kiri-c2-37.jpg\n",
      "data_baru/train/train/C2/kiri-c2-38.jpg\n",
      "data_baru/train/train/C2/kiri-c2-39.jpg\n",
      "data_baru/train/train/C2/kiri-c2-40.jpg\n",
      "data_baru/train/train/C2/kiri-c2-41.jpeg\n",
      "data_baru/train/train/C2/kiri-c2-43.jpeg\n",
      "data_baru/train/train/C2/kiri-c2-45.jpg\n",
      "data_baru/train/train/C2/kiri-c2-46.jpg\n",
      "data_baru/train/train/C2/kiri-c2-48.jpg\n",
      "data_baru/train/train/C2/kiri-c2-49.jpg\n",
      "data_baru/train/train/C2/kiri-c2-50.jpg\n",
      "data_baru/train/train/C2/kiri-c2-51.jpg\n",
      "data_baru/train/train/C2/kiri-c2-52.jpg\n",
      "data_baru/train/train/C2/kiri-c2-53.jpg\n",
      "data_baru/train/train/C2/kiri-c213.png\n",
      "data_baru/train/train/C2/kiri_c2_03.png\n",
      "data_baru/train/train/C3/kanan-c3-01.png\n",
      "data_baru/train/train/C3/kanan-c3-02.jpg\n",
      "data_baru/train/train/C3/kanan-c3-03.jpeg\n",
      "data_baru/train/train/C3/kanan-c3-06.jpg\n",
      "data_baru/train/train/C3/kanan-c3-07.png\n",
      "data_baru/train/train/C3/kanan-c3-09.png\n",
      "data_baru/train/train/C3/kanan-c3-10.png\n",
      "data_baru/train/train/C3/kanan-c3-11.jpg\n",
      "data_baru/train/train/C3/kanan-c3-119.jpg\n",
      "data_baru/train/train/C3/kanan-c3-12.jpg\n",
      "data_baru/train/train/C3/kanan-c3-13.jpg\n",
      "data_baru/train/train/C3/kanan-c3-14.jpg\n",
      "data_baru/train/train/C3/kanan-c3-15.jpg\n",
      "data_baru/train/train/C3/kanan-c3-17.jpg\n",
      "data_baru/train/train/C3/kanan-c3-20.jpg\n",
      "data_baru/train/train/C3/kanan-c3-21.jpg\n",
      "data_baru/train/train/C3/kanan-c3-22.jpg\n",
      "data_baru/train/train/C3/kanan-c3-23.jpg\n",
      "data_baru/train/train/C3/kanan-c3-24.jpg\n"
     ]
    },
    {
     "name": "stdout",
     "output_type": "stream",
     "text": [
      "data_baru/train/train/C3/kanan-c3-25.jpeg\n",
      "data_baru/train/train/C3/kanan-c3-26.jpg\n",
      "data_baru/train/train/C3/kanan-c3-27.jpg\n",
      "data_baru/train/train/C3/kanan-c3-28.jpg\n",
      "data_baru/train/train/C3/kanan-c3-29.jpg\n",
      "data_baru/train/train/C3/kiri-c3-01.png\n",
      "data_baru/train/train/C3/kiri-c3-02.jpg\n",
      "data_baru/train/train/C3/kiri-c3-03.jpg\n",
      "data_baru/train/train/C3/kiri-c3-04.png\n",
      "data_baru/train/train/C3/kiri-c3-06.png\n",
      "data_baru/train/train/C3/kiri-c3-07.png\n",
      "data_baru/train/train/C3/kiri-c3-09.png\n",
      "data_baru/train/train/C3/kiri-c3-10.png\n",
      "data_baru/train/train/C3/kiri-c3-100.png\n",
      "data_baru/train/train/C3/kiri-c3-11.png\n",
      "data_baru/train/train/C3/kiri-c3-12.jpg\n",
      "data_baru/train/train/C3/kiri-c3-13.jpg\n",
      "data_baru/train/train/C3/kiri-c3-14.jpg\n",
      "data_baru/train/train/C3/kiri-c3-15.jpg\n",
      "data_baru/train/train/C3/kiri-c3-16.jpg\n",
      "data_baru/train/train/C3/kiri-c3-17.jpg\n",
      "data_baru/train/train/C3/kiri-c3-19.jpg\n",
      "data_baru/train/train/C3/kiri-c3-20.jpg\n",
      "data_baru/train/train/C3/kiri-c3-22.jpg\n",
      "data_baru/train/train/C3/kiri-c3-24.jpg\n",
      "data_baru/train/train/C3/kiri-c3-25.jpg\n",
      "data_baru/train/train/C3/kiri-c3-26.jpg\n",
      "data_baru/train/train/C3/kiri-c3-30.jpg\n",
      "data_baru/train/train/C3/kiri_c3_01.png\n"
     ]
    }
   ],
   "source": [
    "write_train_list(tr_series)"
   ]
  },
  {
   "cell_type": "markdown",
   "id": "2b29d3ef",
   "metadata": {},
   "source": [
    "### Augmentation Tensorflow"
   ]
  },
  {
   "cell_type": "code",
   "execution_count": 134,
   "id": "403a4705",
   "metadata": {},
   "outputs": [],
   "source": [
    "train_path = \"data_baru/train/train\"\n",
    "test_path = \"data_baru/train/test\"\n",
    "\n",
    "batch_size = 16\n",
    "\n",
    "#The dimension of the images we are going to define is 500x500 \n",
    "img_height = 300\n",
    "img_width = 300"
   ]
  },
  {
   "cell_type": "code",
   "execution_count": 135,
   "id": "eb4d69f5",
   "metadata": {},
   "outputs": [],
   "source": [
    "from tensorflow.keras.preprocessing.image import ImageDataGenerator\n",
    "\n",
    "\n",
    "data_gen = ImageDataGenerator(\n",
    "    rescale = 1./255,\n",
    "    shear_range = 0.2,\n",
    "    zoom_range = 0.2,\n",
    "    horizontal_flip = True,\n",
    ")\n",
    "\n",
    "test_gen = ImageDataGenerator(rescale=1./255)"
   ]
  },
  {
   "cell_type": "code",
   "execution_count": 136,
   "id": "aa8b2842",
   "metadata": {},
   "outputs": [
    {
     "name": "stdout",
     "output_type": "stream",
     "text": [
      "Found 488 images belonging to 3 classes.\n"
     ]
    }
   ],
   "source": [
    "train_data_gen = data_gen.flow_from_directory(\n",
    "    \"data_baru/train/train\",  # this is the target directory\n",
    "    target_size=(300,300),  # all images will be resized to 300x300\n",
    "    batch_size=batch_size,\n",
    "    class_mode='categorical'  # since we use binary_crossentropy loss, we need binary labels\n",
    ")"
   ]
  },
  {
   "cell_type": "code",
   "execution_count": 137,
   "id": "fb13da2b",
   "metadata": {},
   "outputs": [
    {
     "name": "stdout",
     "output_type": "stream",
     "text": [
      "Found 61 images belonging to 3 classes.\n"
     ]
    }
   ],
   "source": [
    "test_data_gen = test_gen.flow_from_directory(\n",
    "   \"data_baru/train/test\",\n",
    "    target_size=(300,300),\n",
    "    batch_size=batch_size,\n",
    "    shuffle=False,\n",
    "    class_mode='categorical'\n",
    ")"
   ]
  },
  {
   "cell_type": "code",
   "execution_count": 138,
   "id": "fb6aad08",
   "metadata": {},
   "outputs": [
    {
     "data": {
      "text/plain": [
       "(300, 300, 3)"
      ]
     },
     "execution_count": 138,
     "metadata": {},
     "output_type": "execute_result"
    }
   ],
   "source": [
    "train_data_gen.image_shape"
   ]
  },
  {
   "cell_type": "markdown",
   "id": "72d75823",
   "metadata": {},
   "source": [
    "## Training"
   ]
  },
  {
   "cell_type": "code",
   "execution_count": 139,
   "id": "b4343a3d",
   "metadata": {},
   "outputs": [],
   "source": [
    "def modelNewCNN():\n",
    "    classifier = Sequential()\n",
    "    #1-Convolution\n",
    "    classifier.add(Conv2D(32, (3,3), strides=(1,1), input_shape = (300,300,3), activation = 'relu'))\n",
    "    #2-Pooling\n",
    "    classifier.add(MaxPooling2D(pool_size = (2,2)))\n",
    "    #add second conv\n",
    "    classifier.add(Conv2D(32, (3,3), strides=(1,1), activation = 'relu'))\n",
    "    classifier.add(MaxPooling2D(pool_size = (2,2)))\n",
    "    #add third conv\n",
    "    classifier.add(Conv2D(32, (3,3), strides=(1,1), activation = 'relu'))\n",
    "    classifier.add(MaxPooling2D(pool_size = (2,2)))\n",
    "    #add third conv\n",
    "    classifier.add(Conv2D(64, (3,3), strides=(1,1), activation = 'relu'))\n",
    "    classifier.add(MaxPooling2D(pool_size = (2,2)))\n",
    "    #add third conv\n",
    "    classifier.add(Conv2D(64, (3,3), strides=(1,1), activation = 'relu'))\n",
    "    classifier.add(MaxPooling2D(pool_size = (2,2)))\n",
    "    #3-Flattening\n",
    "    classifier.add(Flatten())\n",
    "    #4-Full Connection\n",
    "    classifier.add(Dense(activation = 'relu', units = 900))\n",
    "    classifier.add(Dense(activation = 'relu', units = 90))\n",
    "    classifier.add(Dense(activation = 'softmax', units = 3))\n",
    "    \n",
    "\n",
    "    #Compiling CNN\n",
    "    rmsprop = optimizers.RMSprop(learning_rate=0.0001, rho=0.9, epsilon=1e-08, decay=0.0)\n",
    "    classifier.compile(optimizer = rmsprop, loss = 'categorical_crossentropy', metrics = ['accuracy'])\n",
    "    classifier.summary()\n",
    "    \n",
    "    return classifier"
   ]
  },
  {
   "cell_type": "code",
   "execution_count": 140,
   "id": "9c7f664b",
   "metadata": {},
   "outputs": [
    {
     "name": "stdout",
     "output_type": "stream",
     "text": [
      "Model: \"sequential_2\"\n",
      "_________________________________________________________________\n",
      " Layer (type)                Output Shape              Param #   \n",
      "=================================================================\n",
      " conv2d_10 (Conv2D)          (None, 298, 298, 32)      896       \n",
      "                                                                 \n",
      " max_pooling2d_10 (MaxPoolin  (None, 149, 149, 32)     0         \n",
      " g2D)                                                            \n",
      "                                                                 \n",
      " conv2d_11 (Conv2D)          (None, 147, 147, 32)      9248      \n",
      "                                                                 \n",
      " max_pooling2d_11 (MaxPoolin  (None, 73, 73, 32)       0         \n",
      " g2D)                                                            \n",
      "                                                                 \n",
      " conv2d_12 (Conv2D)          (None, 71, 71, 32)        9248      \n",
      "                                                                 \n",
      " max_pooling2d_12 (MaxPoolin  (None, 35, 35, 32)       0         \n",
      " g2D)                                                            \n",
      "                                                                 \n",
      " conv2d_13 (Conv2D)          (None, 33, 33, 64)        18496     \n",
      "                                                                 \n",
      " max_pooling2d_13 (MaxPoolin  (None, 16, 16, 64)       0         \n",
      " g2D)                                                            \n",
      "                                                                 \n",
      " conv2d_14 (Conv2D)          (None, 14, 14, 64)        36928     \n",
      "                                                                 \n",
      " max_pooling2d_14 (MaxPoolin  (None, 7, 7, 64)         0         \n",
      " g2D)                                                            \n",
      "                                                                 \n",
      " flatten_2 (Flatten)         (None, 3136)              0         \n",
      "                                                                 \n",
      " dense_6 (Dense)             (None, 900)               2823300   \n",
      "                                                                 \n",
      " dense_7 (Dense)             (None, 90)                81090     \n",
      "                                                                 \n",
      " dense_8 (Dense)             (None, 3)                 273       \n",
      "                                                                 \n",
      "=================================================================\n",
      "Total params: 2,979,479\n",
      "Trainable params: 2,979,479\n",
      "Non-trainable params: 0\n",
      "_________________________________________________________________\n"
     ]
    }
   ],
   "source": [
    "model = modelNewCNN()"
   ]
  },
  {
   "cell_type": "code",
   "execution_count": 11,
   "id": "c238fa2a",
   "metadata": {},
   "outputs": [],
   "source": [
    "def build_model():\n",
    "    input_img = Input(shape=train_data_gen.image_shape, name='ImageInput')\n",
    "    x = Conv2D(64, (3,3), activation='relu', padding='same')(input_img)\n",
    "    x = Conv2D(64, (3,3), activation='relu', padding='same')(x)\n",
    "    x = MaxPooling2D((2,2))(x)\n",
    "    \n",
    "    x = SeparableConv2D(128, (3,3), activation='relu', padding='same')(x)\n",
    "    x = SeparableConv2D(128, (3,3), activation='relu', padding='same')(x)\n",
    "    x = MaxPooling2D((2,2))(x)\n",
    "    \n",
    "    x = SeparableConv2D(256, (3,3), activation='relu', padding='same')(x)\n",
    "    x = BatchNormalization()(x)\n",
    "    x = SeparableConv2D(256, (3,3), activation='relu', padding='same')(x)\n",
    "    x = BatchNormalization()(x)\n",
    "    x = SeparableConv2D(256, (3,3), activation='relu', padding='same')(x)\n",
    "    x = MaxPooling2D((2,2))(x)\n",
    "    \n",
    "    x = SeparableConv2D(512, (3,3), activation='relu', padding='same')(x)\n",
    "    x = BatchNormalization()(x)\n",
    "    x = SeparableConv2D(512, (3,3), activation='relu', padding='same')(x)\n",
    "    x = BatchNormalization()(x)\n",
    "    x = SeparableConv2D(512, (3,3), activation='relu', padding='same')(x)\n",
    "    x = MaxPooling2D((2,2))(x)\n",
    "    \n",
    "    x = Flatten(name='flatten')(x)\n",
    "    x = Dense(1024, activation='relu')(x)\n",
    "    x = Dropout(0.7)(x)\n",
    "    x = Dense(512, activation='relu')(x)\n",
    "    x = Dropout(0.5)(x)\n",
    "    x = Dense(3, activation='softmax')(x)\n",
    "    \n",
    "    model = Model(inputs=input_img, outputs=x)\n",
    "    \n",
    "    return model"
   ]
  },
  {
   "cell_type": "code",
   "execution_count": 12,
   "id": "81337a5a",
   "metadata": {},
   "outputs": [
    {
     "name": "stdout",
     "output_type": "stream",
     "text": [
      "Model: \"model\"\n",
      "_________________________________________________________________\n",
      " Layer (type)                Output Shape              Param #   \n",
      "=================================================================\n",
      " ImageInput (InputLayer)     [(None, 300, 300, 3)]     0         \n",
      "                                                                 \n",
      " conv2d (Conv2D)             (None, 300, 300, 64)      1792      \n",
      "                                                                 \n",
      " conv2d_1 (Conv2D)           (None, 300, 300, 64)      36928     \n",
      "                                                                 \n",
      " max_pooling2d (MaxPooling2D  (None, 150, 150, 64)     0         \n",
      " )                                                               \n",
      "                                                                 \n",
      " separable_conv2d (Separable  (None, 150, 150, 128)    8896      \n",
      " Conv2D)                                                         \n",
      "                                                                 \n",
      " separable_conv2d_1 (Separab  (None, 150, 150, 128)    17664     \n",
      " leConv2D)                                                       \n",
      "                                                                 \n",
      " max_pooling2d_1 (MaxPooling  (None, 75, 75, 128)      0         \n",
      " 2D)                                                             \n",
      "                                                                 \n",
      " separable_conv2d_2 (Separab  (None, 75, 75, 256)      34176     \n",
      " leConv2D)                                                       \n",
      "                                                                 \n",
      " batch_normalization (BatchN  (None, 75, 75, 256)      1024      \n",
      " ormalization)                                                   \n",
      "                                                                 \n",
      " separable_conv2d_3 (Separab  (None, 75, 75, 256)      68096     \n",
      " leConv2D)                                                       \n",
      "                                                                 \n",
      " batch_normalization_1 (Batc  (None, 75, 75, 256)      1024      \n",
      " hNormalization)                                                 \n",
      "                                                                 \n",
      " separable_conv2d_4 (Separab  (None, 75, 75, 256)      68096     \n",
      " leConv2D)                                                       \n",
      "                                                                 \n",
      " max_pooling2d_2 (MaxPooling  (None, 37, 37, 256)      0         \n",
      " 2D)                                                             \n",
      "                                                                 \n",
      " separable_conv2d_5 (Separab  (None, 37, 37, 512)      133888    \n",
      " leConv2D)                                                       \n",
      "                                                                 \n",
      " batch_normalization_2 (Batc  (None, 37, 37, 512)      2048      \n",
      " hNormalization)                                                 \n",
      "                                                                 \n",
      " separable_conv2d_6 (Separab  (None, 37, 37, 512)      267264    \n",
      " leConv2D)                                                       \n",
      "                                                                 \n",
      " batch_normalization_3 (Batc  (None, 37, 37, 512)      2048      \n",
      " hNormalization)                                                 \n",
      "                                                                 \n",
      " separable_conv2d_7 (Separab  (None, 37, 37, 512)      267264    \n",
      " leConv2D)                                                       \n",
      "                                                                 \n",
      " max_pooling2d_3 (MaxPooling  (None, 18, 18, 512)      0         \n",
      " 2D)                                                             \n",
      "                                                                 \n",
      " flatten (Flatten)           (None, 165888)            0         \n",
      "                                                                 \n",
      " dense (Dense)               (None, 1024)              169870336 \n",
      "                                                                 \n",
      " dropout (Dropout)           (None, 1024)              0         \n",
      "                                                                 \n",
      " dense_1 (Dense)             (None, 512)               524800    \n",
      "                                                                 \n",
      " dropout_1 (Dropout)         (None, 512)               0         \n",
      "                                                                 \n",
      " dense_2 (Dense)             (None, 3)                 1539      \n",
      "                                                                 \n",
      "=================================================================\n",
      "Total params: 171,306,883\n",
      "Trainable params: 171,303,811\n",
      "Non-trainable params: 3,072\n",
      "_________________________________________________________________\n"
     ]
    }
   ],
   "source": [
    "model= build_model()\n",
    "model.summary()"
   ]
  },
  {
   "cell_type": "code",
   "execution_count": 13,
   "id": "a9708b3a",
   "metadata": {},
   "outputs": [
    {
     "name": "stderr",
     "output_type": "stream",
     "text": [
      "C:\\Users\\ACER\\AppData\\Roaming\\Python\\Python38\\site-packages\\keras\\optimizer_v2\\adam.py:105: UserWarning: The `lr` argument is deprecated, use `learning_rate` instead.\n",
      "  super(Adam, self).__init__(name, **kwargs)\n",
      "<ipython-input-13-0a89ac3140d7>:31: UserWarning: `Model.fit_generator` is deprecated and will be removed in a future version. Please use `Model.fit`, which supports generators.\n",
      "  history = model.fit_generator(epochs=epochs,\n"
     ]
    },
    {
     "name": "stdout",
     "output_type": "stream",
     "text": [
      "Epoch 1/50\n"
     ]
    },
    {
     "ename": "KeyboardInterrupt",
     "evalue": "",
     "output_type": "error",
     "traceback": [
      "\u001b[1;31m---------------------------------------------------------------------------\u001b[0m",
      "\u001b[1;31mKeyboardInterrupt\u001b[0m                         Traceback (most recent call last)",
      "\u001b[1;32m<ipython-input-13-0a89ac3140d7>\u001b[0m in \u001b[0;36m<module>\u001b[1;34m\u001b[0m\n\u001b[0;32m     29\u001b[0m               optimizer=Adam(lr=0.0001))\n\u001b[0;32m     30\u001b[0m \u001b[1;33m\u001b[0m\u001b[0m\n\u001b[1;32m---> 31\u001b[1;33m history = model.fit_generator(epochs=epochs,\n\u001b[0m\u001b[0;32m     32\u001b[0m                               \u001b[0mcallbacks\u001b[0m\u001b[1;33m=\u001b[0m\u001b[1;33m[\u001b[0m\u001b[0mearly_stop\u001b[0m\u001b[1;33m,\u001b[0m\u001b[0mcheckpoint\u001b[0m\u001b[1;33m,\u001b[0m\u001b[0mreduce\u001b[0m\u001b[1;33m]\u001b[0m\u001b[1;33m,\u001b[0m\u001b[1;33m\u001b[0m\u001b[1;33m\u001b[0m\u001b[0m\n\u001b[0;32m     33\u001b[0m                               \u001b[0mshuffle\u001b[0m\u001b[1;33m=\u001b[0m\u001b[1;32mTrue\u001b[0m\u001b[1;33m,\u001b[0m\u001b[1;33m\u001b[0m\u001b[1;33m\u001b[0m\u001b[0m\n",
      "\u001b[1;32m~\\AppData\\Roaming\\Python\\Python38\\site-packages\\keras\\engine\\training.py\u001b[0m in \u001b[0;36mfit_generator\u001b[1;34m(self, generator, steps_per_epoch, epochs, verbose, callbacks, validation_data, validation_steps, validation_freq, class_weight, max_queue_size, workers, use_multiprocessing, shuffle, initial_epoch)\u001b[0m\n\u001b[0;32m   2014\u001b[0m         \u001b[1;34m'Please use `Model.fit`, which supports generators.'\u001b[0m\u001b[1;33m,\u001b[0m\u001b[1;33m\u001b[0m\u001b[1;33m\u001b[0m\u001b[0m\n\u001b[0;32m   2015\u001b[0m         stacklevel=2)\n\u001b[1;32m-> 2016\u001b[1;33m     return self.fit(\n\u001b[0m\u001b[0;32m   2017\u001b[0m         \u001b[0mgenerator\u001b[0m\u001b[1;33m,\u001b[0m\u001b[1;33m\u001b[0m\u001b[1;33m\u001b[0m\u001b[0m\n\u001b[0;32m   2018\u001b[0m         \u001b[0msteps_per_epoch\u001b[0m\u001b[1;33m=\u001b[0m\u001b[0msteps_per_epoch\u001b[0m\u001b[1;33m,\u001b[0m\u001b[1;33m\u001b[0m\u001b[1;33m\u001b[0m\u001b[0m\n",
      "\u001b[1;32m~\\AppData\\Roaming\\Python\\Python38\\site-packages\\keras\\utils\\traceback_utils.py\u001b[0m in \u001b[0;36merror_handler\u001b[1;34m(*args, **kwargs)\u001b[0m\n\u001b[0;32m     62\u001b[0m     \u001b[0mfiltered_tb\u001b[0m \u001b[1;33m=\u001b[0m \u001b[1;32mNone\u001b[0m\u001b[1;33m\u001b[0m\u001b[1;33m\u001b[0m\u001b[0m\n\u001b[0;32m     63\u001b[0m     \u001b[1;32mtry\u001b[0m\u001b[1;33m:\u001b[0m\u001b[1;33m\u001b[0m\u001b[1;33m\u001b[0m\u001b[0m\n\u001b[1;32m---> 64\u001b[1;33m       \u001b[1;32mreturn\u001b[0m \u001b[0mfn\u001b[0m\u001b[1;33m(\u001b[0m\u001b[1;33m*\u001b[0m\u001b[0margs\u001b[0m\u001b[1;33m,\u001b[0m \u001b[1;33m**\u001b[0m\u001b[0mkwargs\u001b[0m\u001b[1;33m)\u001b[0m\u001b[1;33m\u001b[0m\u001b[1;33m\u001b[0m\u001b[0m\n\u001b[0m\u001b[0;32m     65\u001b[0m     \u001b[1;32mexcept\u001b[0m \u001b[0mException\u001b[0m \u001b[1;32mas\u001b[0m \u001b[0me\u001b[0m\u001b[1;33m:\u001b[0m  \u001b[1;31m# pylint: disable=broad-except\u001b[0m\u001b[1;33m\u001b[0m\u001b[1;33m\u001b[0m\u001b[0m\n\u001b[0;32m     66\u001b[0m       \u001b[0mfiltered_tb\u001b[0m \u001b[1;33m=\u001b[0m \u001b[0m_process_traceback_frames\u001b[0m\u001b[1;33m(\u001b[0m\u001b[0me\u001b[0m\u001b[1;33m.\u001b[0m\u001b[0m__traceback__\u001b[0m\u001b[1;33m)\u001b[0m\u001b[1;33m\u001b[0m\u001b[1;33m\u001b[0m\u001b[0m\n",
      "\u001b[1;32m~\\AppData\\Roaming\\Python\\Python38\\site-packages\\keras\\engine\\training.py\u001b[0m in \u001b[0;36mfit\u001b[1;34m(self, x, y, batch_size, epochs, verbose, callbacks, validation_split, validation_data, shuffle, class_weight, sample_weight, initial_epoch, steps_per_epoch, validation_steps, validation_batch_size, validation_freq, max_queue_size, workers, use_multiprocessing)\u001b[0m\n\u001b[0;32m   1214\u001b[0m                 _r=1):\n\u001b[0;32m   1215\u001b[0m               \u001b[0mcallbacks\u001b[0m\u001b[1;33m.\u001b[0m\u001b[0mon_train_batch_begin\u001b[0m\u001b[1;33m(\u001b[0m\u001b[0mstep\u001b[0m\u001b[1;33m)\u001b[0m\u001b[1;33m\u001b[0m\u001b[1;33m\u001b[0m\u001b[0m\n\u001b[1;32m-> 1216\u001b[1;33m               \u001b[0mtmp_logs\u001b[0m \u001b[1;33m=\u001b[0m \u001b[0mself\u001b[0m\u001b[1;33m.\u001b[0m\u001b[0mtrain_function\u001b[0m\u001b[1;33m(\u001b[0m\u001b[0miterator\u001b[0m\u001b[1;33m)\u001b[0m\u001b[1;33m\u001b[0m\u001b[1;33m\u001b[0m\u001b[0m\n\u001b[0m\u001b[0;32m   1217\u001b[0m               \u001b[1;32mif\u001b[0m \u001b[0mdata_handler\u001b[0m\u001b[1;33m.\u001b[0m\u001b[0mshould_sync\u001b[0m\u001b[1;33m:\u001b[0m\u001b[1;33m\u001b[0m\u001b[1;33m\u001b[0m\u001b[0m\n\u001b[0;32m   1218\u001b[0m                 \u001b[0mcontext\u001b[0m\u001b[1;33m.\u001b[0m\u001b[0masync_wait\u001b[0m\u001b[1;33m(\u001b[0m\u001b[1;33m)\u001b[0m\u001b[1;33m\u001b[0m\u001b[1;33m\u001b[0m\u001b[0m\n",
      "\u001b[1;32m~\\AppData\\Roaming\\Python\\Python38\\site-packages\\tensorflow\\python\\util\\traceback_utils.py\u001b[0m in \u001b[0;36merror_handler\u001b[1;34m(*args, **kwargs)\u001b[0m\n\u001b[0;32m    148\u001b[0m     \u001b[0mfiltered_tb\u001b[0m \u001b[1;33m=\u001b[0m \u001b[1;32mNone\u001b[0m\u001b[1;33m\u001b[0m\u001b[1;33m\u001b[0m\u001b[0m\n\u001b[0;32m    149\u001b[0m     \u001b[1;32mtry\u001b[0m\u001b[1;33m:\u001b[0m\u001b[1;33m\u001b[0m\u001b[1;33m\u001b[0m\u001b[0m\n\u001b[1;32m--> 150\u001b[1;33m       \u001b[1;32mreturn\u001b[0m \u001b[0mfn\u001b[0m\u001b[1;33m(\u001b[0m\u001b[1;33m*\u001b[0m\u001b[0margs\u001b[0m\u001b[1;33m,\u001b[0m \u001b[1;33m**\u001b[0m\u001b[0mkwargs\u001b[0m\u001b[1;33m)\u001b[0m\u001b[1;33m\u001b[0m\u001b[1;33m\u001b[0m\u001b[0m\n\u001b[0m\u001b[0;32m    151\u001b[0m     \u001b[1;32mexcept\u001b[0m \u001b[0mException\u001b[0m \u001b[1;32mas\u001b[0m \u001b[0me\u001b[0m\u001b[1;33m:\u001b[0m\u001b[1;33m\u001b[0m\u001b[1;33m\u001b[0m\u001b[0m\n\u001b[0;32m    152\u001b[0m       \u001b[0mfiltered_tb\u001b[0m \u001b[1;33m=\u001b[0m \u001b[0m_process_traceback_frames\u001b[0m\u001b[1;33m(\u001b[0m\u001b[0me\u001b[0m\u001b[1;33m.\u001b[0m\u001b[0m__traceback__\u001b[0m\u001b[1;33m)\u001b[0m\u001b[1;33m\u001b[0m\u001b[1;33m\u001b[0m\u001b[0m\n",
      "\u001b[1;32m~\\AppData\\Roaming\\Python\\Python38\\site-packages\\tensorflow\\python\\eager\\def_function.py\u001b[0m in \u001b[0;36m__call__\u001b[1;34m(self, *args, **kwds)\u001b[0m\n\u001b[0;32m    908\u001b[0m \u001b[1;33m\u001b[0m\u001b[0m\n\u001b[0;32m    909\u001b[0m       \u001b[1;32mwith\u001b[0m \u001b[0mOptionalXlaContext\u001b[0m\u001b[1;33m(\u001b[0m\u001b[0mself\u001b[0m\u001b[1;33m.\u001b[0m\u001b[0m_jit_compile\u001b[0m\u001b[1;33m)\u001b[0m\u001b[1;33m:\u001b[0m\u001b[1;33m\u001b[0m\u001b[1;33m\u001b[0m\u001b[0m\n\u001b[1;32m--> 910\u001b[1;33m         \u001b[0mresult\u001b[0m \u001b[1;33m=\u001b[0m \u001b[0mself\u001b[0m\u001b[1;33m.\u001b[0m\u001b[0m_call\u001b[0m\u001b[1;33m(\u001b[0m\u001b[1;33m*\u001b[0m\u001b[0margs\u001b[0m\u001b[1;33m,\u001b[0m \u001b[1;33m**\u001b[0m\u001b[0mkwds\u001b[0m\u001b[1;33m)\u001b[0m\u001b[1;33m\u001b[0m\u001b[1;33m\u001b[0m\u001b[0m\n\u001b[0m\u001b[0;32m    911\u001b[0m \u001b[1;33m\u001b[0m\u001b[0m\n\u001b[0;32m    912\u001b[0m       \u001b[0mnew_tracing_count\u001b[0m \u001b[1;33m=\u001b[0m \u001b[0mself\u001b[0m\u001b[1;33m.\u001b[0m\u001b[0mexperimental_get_tracing_count\u001b[0m\u001b[1;33m(\u001b[0m\u001b[1;33m)\u001b[0m\u001b[1;33m\u001b[0m\u001b[1;33m\u001b[0m\u001b[0m\n",
      "\u001b[1;32m~\\AppData\\Roaming\\Python\\Python38\\site-packages\\tensorflow\\python\\eager\\def_function.py\u001b[0m in \u001b[0;36m_call\u001b[1;34m(self, *args, **kwds)\u001b[0m\n\u001b[0;32m    940\u001b[0m       \u001b[1;31m# In this case we have created variables on the first call, so we run the\u001b[0m\u001b[1;33m\u001b[0m\u001b[1;33m\u001b[0m\u001b[1;33m\u001b[0m\u001b[0m\n\u001b[0;32m    941\u001b[0m       \u001b[1;31m# defunned version which is guaranteed to never create variables.\u001b[0m\u001b[1;33m\u001b[0m\u001b[1;33m\u001b[0m\u001b[1;33m\u001b[0m\u001b[0m\n\u001b[1;32m--> 942\u001b[1;33m       \u001b[1;32mreturn\u001b[0m \u001b[0mself\u001b[0m\u001b[1;33m.\u001b[0m\u001b[0m_stateless_fn\u001b[0m\u001b[1;33m(\u001b[0m\u001b[1;33m*\u001b[0m\u001b[0margs\u001b[0m\u001b[1;33m,\u001b[0m \u001b[1;33m**\u001b[0m\u001b[0mkwds\u001b[0m\u001b[1;33m)\u001b[0m  \u001b[1;31m# pylint: disable=not-callable\u001b[0m\u001b[1;33m\u001b[0m\u001b[1;33m\u001b[0m\u001b[0m\n\u001b[0m\u001b[0;32m    943\u001b[0m     \u001b[1;32melif\u001b[0m \u001b[0mself\u001b[0m\u001b[1;33m.\u001b[0m\u001b[0m_stateful_fn\u001b[0m \u001b[1;32mis\u001b[0m \u001b[1;32mnot\u001b[0m \u001b[1;32mNone\u001b[0m\u001b[1;33m:\u001b[0m\u001b[1;33m\u001b[0m\u001b[1;33m\u001b[0m\u001b[0m\n\u001b[0;32m    944\u001b[0m       \u001b[1;31m# Release the lock early so that multiple threads can perform the call\u001b[0m\u001b[1;33m\u001b[0m\u001b[1;33m\u001b[0m\u001b[1;33m\u001b[0m\u001b[0m\n",
      "\u001b[1;32m~\\AppData\\Roaming\\Python\\Python38\\site-packages\\tensorflow\\python\\eager\\function.py\u001b[0m in \u001b[0;36m__call__\u001b[1;34m(self, *args, **kwargs)\u001b[0m\n\u001b[0;32m   3128\u001b[0m       (graph_function,\n\u001b[0;32m   3129\u001b[0m        filtered_flat_args) = self._maybe_define_function(args, kwargs)\n\u001b[1;32m-> 3130\u001b[1;33m     return graph_function._call_flat(\n\u001b[0m\u001b[0;32m   3131\u001b[0m         filtered_flat_args, captured_inputs=graph_function.captured_inputs)  # pylint: disable=protected-access\n\u001b[0;32m   3132\u001b[0m \u001b[1;33m\u001b[0m\u001b[0m\n",
      "\u001b[1;32m~\\AppData\\Roaming\\Python\\Python38\\site-packages\\tensorflow\\python\\eager\\function.py\u001b[0m in \u001b[0;36m_call_flat\u001b[1;34m(self, args, captured_inputs, cancellation_manager)\u001b[0m\n\u001b[0;32m   1957\u001b[0m         and executing_eagerly):\n\u001b[0;32m   1958\u001b[0m       \u001b[1;31m# No tape is watching; skip to running the function.\u001b[0m\u001b[1;33m\u001b[0m\u001b[1;33m\u001b[0m\u001b[1;33m\u001b[0m\u001b[0m\n\u001b[1;32m-> 1959\u001b[1;33m       return self._build_call_outputs(self._inference_function.call(\n\u001b[0m\u001b[0;32m   1960\u001b[0m           ctx, args, cancellation_manager=cancellation_manager))\n\u001b[0;32m   1961\u001b[0m     forward_backward = self._select_forward_and_backward_functions(\n",
      "\u001b[1;32m~\\AppData\\Roaming\\Python\\Python38\\site-packages\\tensorflow\\python\\eager\\function.py\u001b[0m in \u001b[0;36mcall\u001b[1;34m(self, ctx, args, cancellation_manager)\u001b[0m\n\u001b[0;32m    596\u001b[0m       \u001b[1;32mwith\u001b[0m \u001b[0m_InterpolateFunctionError\u001b[0m\u001b[1;33m(\u001b[0m\u001b[0mself\u001b[0m\u001b[1;33m)\u001b[0m\u001b[1;33m:\u001b[0m\u001b[1;33m\u001b[0m\u001b[1;33m\u001b[0m\u001b[0m\n\u001b[0;32m    597\u001b[0m         \u001b[1;32mif\u001b[0m \u001b[0mcancellation_manager\u001b[0m \u001b[1;32mis\u001b[0m \u001b[1;32mNone\u001b[0m\u001b[1;33m:\u001b[0m\u001b[1;33m\u001b[0m\u001b[1;33m\u001b[0m\u001b[0m\n\u001b[1;32m--> 598\u001b[1;33m           outputs = execute.execute(\n\u001b[0m\u001b[0;32m    599\u001b[0m               \u001b[0mstr\u001b[0m\u001b[1;33m(\u001b[0m\u001b[0mself\u001b[0m\u001b[1;33m.\u001b[0m\u001b[0msignature\u001b[0m\u001b[1;33m.\u001b[0m\u001b[0mname\u001b[0m\u001b[1;33m)\u001b[0m\u001b[1;33m,\u001b[0m\u001b[1;33m\u001b[0m\u001b[1;33m\u001b[0m\u001b[0m\n\u001b[0;32m    600\u001b[0m               \u001b[0mnum_outputs\u001b[0m\u001b[1;33m=\u001b[0m\u001b[0mself\u001b[0m\u001b[1;33m.\u001b[0m\u001b[0m_num_outputs\u001b[0m\u001b[1;33m,\u001b[0m\u001b[1;33m\u001b[0m\u001b[1;33m\u001b[0m\u001b[0m\n",
      "\u001b[1;32m~\\AppData\\Roaming\\Python\\Python38\\site-packages\\tensorflow\\python\\eager\\execute.py\u001b[0m in \u001b[0;36mquick_execute\u001b[1;34m(op_name, num_outputs, inputs, attrs, ctx, name)\u001b[0m\n\u001b[0;32m     56\u001b[0m   \u001b[1;32mtry\u001b[0m\u001b[1;33m:\u001b[0m\u001b[1;33m\u001b[0m\u001b[1;33m\u001b[0m\u001b[0m\n\u001b[0;32m     57\u001b[0m     \u001b[0mctx\u001b[0m\u001b[1;33m.\u001b[0m\u001b[0mensure_initialized\u001b[0m\u001b[1;33m(\u001b[0m\u001b[1;33m)\u001b[0m\u001b[1;33m\u001b[0m\u001b[1;33m\u001b[0m\u001b[0m\n\u001b[1;32m---> 58\u001b[1;33m     tensors = pywrap_tfe.TFE_Py_Execute(ctx._handle, device_name, op_name,\n\u001b[0m\u001b[0;32m     59\u001b[0m                                         inputs, attrs, num_outputs)\n\u001b[0;32m     60\u001b[0m   \u001b[1;32mexcept\u001b[0m \u001b[0mcore\u001b[0m\u001b[1;33m.\u001b[0m\u001b[0m_NotOkStatusException\u001b[0m \u001b[1;32mas\u001b[0m \u001b[0me\u001b[0m\u001b[1;33m:\u001b[0m\u001b[1;33m\u001b[0m\u001b[1;33m\u001b[0m\u001b[0m\n",
      "\u001b[1;31mKeyboardInterrupt\u001b[0m: "
     ]
    }
   ],
   "source": [
    "batch_size = 16\n",
    "epochs = 50\n",
    "early_stop = EarlyStopping(patience=25,\n",
    "                           verbose = 2,\n",
    "                           monitor='val_loss',\n",
    "                           mode='auto')\n",
    "\n",
    "checkpoint = ModelCheckpoint(\n",
    "    filepath='best_model',\n",
    "    save_best_only=True,\n",
    "    save_weights_only=True,\n",
    "    monitor='val_loss',\n",
    "    mode='auto',\n",
    "    verbose = 1)\n",
    "\n",
    "reduce = ReduceLROnPlateau(\n",
    "    monitor='val_loss',\n",
    "    factor=0.8,\n",
    "    patience=5,\n",
    "    verbose=1, \n",
    "    mode='auto',\n",
    "    min_delta=0.0001, \n",
    "    cooldown=1, \n",
    "    min_lr=0.0001\n",
    ")\n",
    "\n",
    "model.compile(loss='binary_crossentropy',\n",
    "              metrics=['accuracy'],\n",
    "              optimizer=Adam(lr=0.0001))\n",
    "\n",
    "history = model.fit_generator(epochs=epochs,\n",
    "                              callbacks=[early_stop,checkpoint,reduce],\n",
    "                              shuffle=True,\n",
    "                              validation_data=test_data_gen,\n",
    "                              generator=train_data_gen,\n",
    "                              steps_per_epoch=292//batch_size,\n",
    "                              validation_steps=36//batch_size,\n",
    "                              verbose=2)"
   ]
  },
  {
   "cell_type": "code",
   "execution_count": 93,
   "id": "4a87ec01",
   "metadata": {},
   "outputs": [],
   "source": [
    "def save_grafik(history):\n",
    "    # summarize history for accuracy\n",
    "    plt.plot(history.history['accuracy'])\n",
    "    plt.plot(history.history['val_accuracy'])\n",
    "    plt.title('model accuracy')\n",
    "    plt.ylabel('accuracy')\n",
    "    plt.xlabel('epoch')\n",
    "    plt.legend(['train', 'test'], loc='upper left')\n",
    "    plt.savefig('data/accuracy.png')\n",
    "    plt.close()\n",
    "\n",
    "    # summarize history for loss\n",
    "    plt.plot(history.history['loss'])\n",
    "    plt.plot(history.history['val_loss'])\n",
    "    plt.title('model loss')\n",
    "    plt.ylabel('loss')\n",
    "    plt.xlabel('epoch')\n",
    "    plt.legend(['train', 'test'], loc='upper left')\n",
    "    plt.savefig('data/loss.png')\n",
    "    plt.close()\n",
    "    \n",
    "    return \"Save Successful\""
   ]
  },
  {
   "cell_type": "code",
   "execution_count": 141,
   "id": "978efdd5",
   "metadata": {},
   "outputs": [
    {
     "name": "stdout",
     "output_type": "stream",
     "text": [
      "Epoch 1/50\n",
      "15/15 [==============================] - 13s 773ms/step - loss: 1.0813 - accuracy: 0.3625 - val_loss: 0.9022 - val_accuracy: 0.6042\n",
      "Epoch 2/50\n",
      "15/15 [==============================] - 12s 816ms/step - loss: 1.0354 - accuracy: 0.4698 - val_loss: 0.8595 - val_accuracy: 0.7292\n",
      "Epoch 3/50\n",
      "15/15 [==============================] - 14s 890ms/step - loss: 1.0061 - accuracy: 0.5125 - val_loss: 0.7884 - val_accuracy: 0.6458\n",
      "Epoch 4/50\n",
      "15/15 [==============================] - 13s 864ms/step - loss: 0.9691 - accuracy: 0.5862 - val_loss: 0.8218 - val_accuracy: 0.6250\n",
      "Epoch 5/50\n",
      "15/15 [==============================] - 14s 893ms/step - loss: 0.9424 - accuracy: 0.5583 - val_loss: 0.9324 - val_accuracy: 0.6250\n",
      "Epoch 6/50\n",
      "15/15 [==============================] - 13s 867ms/step - loss: 0.9548 - accuracy: 0.5345 - val_loss: 0.8946 - val_accuracy: 0.4792\n",
      "Epoch 7/50\n",
      "15/15 [==============================] - 14s 913ms/step - loss: 0.9308 - accuracy: 0.5625 - val_loss: 0.8923 - val_accuracy: 0.7292\n",
      "Epoch 8/50\n",
      "15/15 [==============================] - 14s 891ms/step - loss: 0.9269 - accuracy: 0.5583 - val_loss: 0.8537 - val_accuracy: 0.5208\n",
      "Epoch 9/50\n",
      "15/15 [==============================] - 14s 899ms/step - loss: 0.9345 - accuracy: 0.5125 - val_loss: 0.7982 - val_accuracy: 0.6042\n",
      "Epoch 10/50\n",
      "15/15 [==============================] - 14s 906ms/step - loss: 0.9516 - accuracy: 0.5583 - val_loss: 0.8960 - val_accuracy: 0.7083\n",
      "Epoch 11/50\n",
      "15/15 [==============================] - 14s 886ms/step - loss: 0.9209 - accuracy: 0.5388 - val_loss: 0.7658 - val_accuracy: 0.7083\n",
      "Epoch 12/50\n",
      "15/15 [==============================] - 14s 887ms/step - loss: 0.9012 - accuracy: 0.5819 - val_loss: 0.7977 - val_accuracy: 0.6875\n",
      "Epoch 13/50\n",
      "15/15 [==============================] - 14s 915ms/step - loss: 0.9179 - accuracy: 0.5292 - val_loss: 0.9723 - val_accuracy: 0.5833\n",
      "Epoch 14/50\n",
      "15/15 [==============================] - 14s 915ms/step - loss: 0.8902 - accuracy: 0.5208 - val_loss: 0.8549 - val_accuracy: 0.6458\n",
      "Epoch 15/50\n",
      "15/15 [==============================] - 14s 911ms/step - loss: 0.8979 - accuracy: 0.5667 - val_loss: 0.7765 - val_accuracy: 0.7500\n",
      "Epoch 16/50\n",
      "15/15 [==============================] - 14s 931ms/step - loss: 0.8379 - accuracy: 0.6379 - val_loss: 0.7939 - val_accuracy: 0.6667\n",
      "Epoch 17/50\n",
      "15/15 [==============================] - 14s 892ms/step - loss: 0.8391 - accuracy: 0.6250 - val_loss: 0.8324 - val_accuracy: 0.6667\n",
      "Epoch 18/50\n",
      "15/15 [==============================] - 15s 976ms/step - loss: 0.9053 - accuracy: 0.5667 - val_loss: 0.8000 - val_accuracy: 0.6042\n",
      "Epoch 19/50\n",
      "15/15 [==============================] - 14s 905ms/step - loss: 0.8812 - accuracy: 0.5603 - val_loss: 0.7210 - val_accuracy: 0.6667\n",
      "Epoch 20/50\n",
      "15/15 [==============================] - 14s 939ms/step - loss: 0.8534 - accuracy: 0.6167 - val_loss: 0.7362 - val_accuracy: 0.7292\n",
      "Epoch 21/50\n",
      "15/15 [==============================] - 14s 929ms/step - loss: 0.8583 - accuracy: 0.5833 - val_loss: 0.7103 - val_accuracy: 0.7708\n",
      "Epoch 22/50\n",
      "15/15 [==============================] - 14s 945ms/step - loss: 0.8612 - accuracy: 0.5917 - val_loss: 0.7609 - val_accuracy: 0.6250\n",
      "Epoch 23/50\n",
      "15/15 [==============================] - 15s 955ms/step - loss: 0.8143 - accuracy: 0.6125 - val_loss: 0.9065 - val_accuracy: 0.5833\n",
      "Epoch 24/50\n",
      "15/15 [==============================] - 15s 976ms/step - loss: 0.8541 - accuracy: 0.6292 - val_loss: 0.9206 - val_accuracy: 0.4792\n",
      "Epoch 25/50\n",
      "15/15 [==============================] - 14s 951ms/step - loss: 0.8437 - accuracy: 0.6000 - val_loss: 0.8430 - val_accuracy: 0.5833\n",
      "Epoch 26/50\n",
      "15/15 [==============================] - 14s 952ms/step - loss: 0.7724 - accuracy: 0.6625 - val_loss: 0.8868 - val_accuracy: 0.6458\n",
      "Epoch 27/50\n",
      "15/15 [==============================] - 15s 967ms/step - loss: 0.8364 - accuracy: 0.6208 - val_loss: 0.7726 - val_accuracy: 0.6458\n",
      "Epoch 28/50\n",
      "15/15 [==============================] - 14s 931ms/step - loss: 0.7642 - accuracy: 0.6552 - val_loss: 0.8944 - val_accuracy: 0.5000\n",
      "Epoch 29/50\n",
      "15/15 [==============================] - 14s 937ms/step - loss: 0.8179 - accuracy: 0.6250 - val_loss: 0.8011 - val_accuracy: 0.6250\n",
      "Epoch 30/50\n",
      "15/15 [==============================] - 15s 968ms/step - loss: 0.8373 - accuracy: 0.5875 - val_loss: 0.8885 - val_accuracy: 0.5417\n",
      "Epoch 31/50\n",
      "15/15 [==============================] - 15s 992ms/step - loss: 0.8122 - accuracy: 0.6466 - val_loss: 0.8669 - val_accuracy: 0.5833\n",
      "Epoch 32/50\n",
      "15/15 [==============================] - 15s 1s/step - loss: 0.7793 - accuracy: 0.6750 - val_loss: 0.8616 - val_accuracy: 0.5208\n",
      "Epoch 33/50\n",
      "15/15 [==============================] - 15s 983ms/step - loss: 0.7862 - accuracy: 0.6625 - val_loss: 0.8259 - val_accuracy: 0.6042\n",
      "Epoch 34/50\n",
      "15/15 [==============================] - 15s 993ms/step - loss: 0.7375 - accuracy: 0.6875 - val_loss: 0.9374 - val_accuracy: 0.5208\n",
      "Epoch 35/50\n",
      "15/15 [==============================] - 15s 994ms/step - loss: 0.6497 - accuracy: 0.7417 - val_loss: 0.8227 - val_accuracy: 0.5833\n",
      "Epoch 36/50\n",
      "15/15 [==============================] - 15s 969ms/step - loss: 0.7891 - accuracy: 0.6552 - val_loss: 0.8282 - val_accuracy: 0.5833\n",
      "Epoch 37/50\n",
      "15/15 [==============================] - 15s 1s/step - loss: 0.7170 - accuracy: 0.6708 - val_loss: 0.7939 - val_accuracy: 0.5417\n",
      "Epoch 38/50\n",
      "15/15 [==============================] - 15s 1s/step - loss: 0.7876 - accuracy: 0.6336 - val_loss: 0.7189 - val_accuracy: 0.6667\n",
      "Epoch 39/50\n",
      "15/15 [==============================] - 16s 1s/step - loss: 0.6894 - accuracy: 0.6853 - val_loss: 0.7267 - val_accuracy: 0.6458\n",
      "Epoch 40/50\n",
      "15/15 [==============================] - 16s 1s/step - loss: 0.7124 - accuracy: 0.6983 - val_loss: 0.8399 - val_accuracy: 0.5833\n",
      "Epoch 41/50\n",
      "15/15 [==============================] - 16s 1s/step - loss: 0.7058 - accuracy: 0.6917 - val_loss: 0.7615 - val_accuracy: 0.6250\n",
      "Epoch 42/50\n",
      "15/15 [==============================] - 15s 996ms/step - loss: 0.7265 - accuracy: 0.6552 - val_loss: 0.8629 - val_accuracy: 0.5625\n",
      "Epoch 43/50\n",
      "15/15 [==============================] - 15s 1s/step - loss: 0.7628 - accuracy: 0.6552 - val_loss: 0.8947 - val_accuracy: 0.5208\n",
      "Epoch 44/50\n",
      "15/15 [==============================] - 16s 1s/step - loss: 0.7107 - accuracy: 0.6875 - val_loss: 0.8997 - val_accuracy: 0.5625\n",
      "Epoch 45/50\n",
      "15/15 [==============================] - 16s 1s/step - loss: 0.6935 - accuracy: 0.6958 - val_loss: 1.1613 - val_accuracy: 0.5000\n",
      "Epoch 46/50\n",
      "15/15 [==============================] - 15s 1s/step - loss: 0.7053 - accuracy: 0.7198 - val_loss: 0.9080 - val_accuracy: 0.5417\n",
      "Epoch 47/50\n",
      "15/15 [==============================] - 16s 1s/step - loss: 0.6936 - accuracy: 0.6792 - val_loss: 0.7893 - val_accuracy: 0.6042\n",
      "Epoch 48/50\n",
      "15/15 [==============================] - 17s 1s/step - loss: 0.6593 - accuracy: 0.7375 - val_loss: 0.8667 - val_accuracy: 0.5417\n",
      "Epoch 49/50\n",
      "15/15 [==============================] - 16s 1s/step - loss: 0.6364 - accuracy: 0.7042 - val_loss: 0.8056 - val_accuracy: 0.6250\n",
      "Epoch 50/50\n",
      "15/15 [==============================] - 16s 1s/step - loss: 0.6067 - accuracy: 0.7716 - val_loss: 1.1734 - val_accuracy: 0.4583\n"
     ]
    },
    {
     "data": {
      "text/plain": [
       "'Save Successful'"
      ]
     },
     "execution_count": 141,
     "metadata": {},
     "output_type": "execute_result"
    }
   ],
   "source": [
    "history_callback = model.fit(\n",
    "        train_data_gen,\n",
    "        steps_per_epoch=244//batch_size,\n",
    "        epochs=50,\n",
    "        validation_data=test_data_gen,\n",
    "        validation_steps=61//batch_size)\n",
    "\n",
    "model.save('data/model_new.h5')  # always save your weights after training or during training\n",
    "\n",
    "loss_history = history_callback.history[\"loss\"]\n",
    "accuracy_history = history_callback.history[\"accuracy\"]\n",
    "val_loss_history = history_callback.history[\"val_loss\"]\n",
    "val_accuracy_history = history_callback.history[\"val_accuracy\"]\n",
    "\n",
    "numpy_loss_history = np.array(loss_history)\n",
    "np.savetxt(\"data/loss_history.txt\", numpy_loss_history, delimiter=\",\")\n",
    "#return numpy_loss_history\n",
    "numpy_accuracy_history = np.array(accuracy_history)\n",
    "np.savetxt(\"data/acc_history.txt\", numpy_accuracy_history, delimiter=\",\")\n",
    "\n",
    "numpy_val_loss_history = np.array(val_loss_history)\n",
    "np.savetxt(\"data/val_loss_history.txt\", numpy_val_loss_history, delimiter=\",\")\n",
    "#return numpy_loss_history\n",
    "numpy_val_accuracy_history = np.array(val_accuracy_history)\n",
    "np.savetxt(\"data/val_acc_history.txt\", numpy_val_accuracy_history, delimiter=\",\")\n",
    "\n",
    "save_grafik(history=history_callback)"
   ]
  },
  {
   "cell_type": "markdown",
   "id": "c96cd601",
   "metadata": {},
   "source": [
    "## Loss and Accuracy Model"
   ]
  },
  {
   "cell_type": "code",
   "execution_count": 142,
   "id": "4067774d",
   "metadata": {
    "scrolled": true
   },
   "outputs": [
    {
     "data": {
      "image/png": "[encoded data removed]",
      "text/plain": [
       "<Figure size 432x288 with 1 Axes>"
      ]
     },
     "metadata": {
      "needs_background": "light"
     },
     "output_type": "display_data"
    }
   ],
   "source": [
    "plt.plot(history_callback.history['accuracy'])\n",
    "plt.plot(history_callback.history['val_accuracy'])\n",
    "plt.title('model accuracy')\n",
    "plt.ylabel('accuracy')\n",
    "plt.xlabel('epoch')\n",
    "plt.legend(['train', 'test'], loc='upper left')\n",
    "plt.show()\n",
    "plt.close()"
   ]
  },
  {
   "cell_type": "code",
   "execution_count": 143,
   "id": "4fe8ef83",
   "metadata": {},
   "outputs": [
    {
     "data": {
      "image/png": "[encoded data removed]",
      "text/plain": [
       "<Figure size 432x288 with 1 Axes>"
      ]
     },
     "metadata": {
      "needs_background": "light"
     },
     "output_type": "display_data"
    }
   ],
   "source": [
    "plt.plot(history_callback.history['loss'])\n",
    "plt.plot(history_callback.history['val_loss'])\n",
    "plt.title('model loss')\n",
    "plt.ylabel('loss')\n",
    "plt.xlabel('epoch')\n",
    "plt.legend(['train', 'test'], loc='upper left')\n",
    "plt.show()\n",
    "plt.close()"
   ]
  },
  {
   "cell_type": "code",
   "execution_count": 83,
   "id": "0fb76e2f",
   "metadata": {},
   "outputs": [
    {
     "ename": "FileNotFoundError",
     "evalue": "[Errno 2] No such file or directory: 'dataset/test/C2/IMG_4191.jpg'",
     "output_type": "error",
     "traceback": [
      "\u001b[1;31m---------------------------------------------------------------------------\u001b[0m",
      "\u001b[1;31mFileNotFoundError\u001b[0m                         Traceback (most recent call last)",
      "\u001b[1;32m<ipython-input-83-a4170286d306>\u001b[0m in \u001b[0;36m<module>\u001b[1;34m\u001b[0m\n\u001b[0;32m      8\u001b[0m     \u001b[1;32mreturn\u001b[0m \u001b[0mimg_tensor\u001b[0m\u001b[1;33m\u001b[0m\u001b[1;33m\u001b[0m\u001b[0m\n\u001b[0;32m      9\u001b[0m \u001b[1;33m\u001b[0m\u001b[0m\n\u001b[1;32m---> 10\u001b[1;33m \u001b[0mpredImage\u001b[0m \u001b[1;33m=\u001b[0m \u001b[0mload_image\u001b[0m\u001b[1;33m(\u001b[0m\u001b[1;34m'dataset/test/C2/IMG_4191.jpg'\u001b[0m\u001b[1;33m)\u001b[0m\u001b[1;33m\u001b[0m\u001b[1;33m\u001b[0m\u001b[0m\n\u001b[0m\u001b[0;32m     11\u001b[0m \u001b[1;31m# predImage\u001b[0m\u001b[1;33m\u001b[0m\u001b[1;33m\u001b[0m\u001b[1;33m\u001b[0m\u001b[0m\n\u001b[0;32m     12\u001b[0m \u001b[0mpred\u001b[0m \u001b[1;33m=\u001b[0m \u001b[0mmodel\u001b[0m\u001b[1;33m.\u001b[0m\u001b[0mpredict\u001b[0m\u001b[1;33m(\u001b[0m\u001b[0mpredImage\u001b[0m\u001b[1;33m)\u001b[0m\u001b[1;33m\u001b[0m\u001b[1;33m\u001b[0m\u001b[0m\n",
      "\u001b[1;32m<ipython-input-83-a4170286d306>\u001b[0m in \u001b[0;36mload_image\u001b[1;34m(img_path, show)\u001b[0m\n\u001b[0;32m      2\u001b[0m \u001b[1;33m\u001b[0m\u001b[0m\n\u001b[0;32m      3\u001b[0m \u001b[1;32mdef\u001b[0m \u001b[0mload_image\u001b[0m\u001b[1;33m(\u001b[0m\u001b[0mimg_path\u001b[0m\u001b[1;33m,\u001b[0m \u001b[0mshow\u001b[0m\u001b[1;33m=\u001b[0m\u001b[1;32mFalse\u001b[0m\u001b[1;33m)\u001b[0m\u001b[1;33m:\u001b[0m\u001b[1;33m\u001b[0m\u001b[1;33m\u001b[0m\u001b[0m\n\u001b[1;32m----> 4\u001b[1;33m     \u001b[0mimg\u001b[0m \u001b[1;33m=\u001b[0m \u001b[0mimage\u001b[0m\u001b[1;33m.\u001b[0m\u001b[0mload_img\u001b[0m\u001b[1;33m(\u001b[0m\u001b[0mimg_path\u001b[0m\u001b[1;33m,\u001b[0m \u001b[0mtarget_size\u001b[0m\u001b[1;33m=\u001b[0m\u001b[1;33m(\u001b[0m\u001b[1;36m300\u001b[0m\u001b[1;33m,\u001b[0m \u001b[1;36m300\u001b[0m\u001b[1;33m)\u001b[0m\u001b[1;33m)\u001b[0m\u001b[1;33m\u001b[0m\u001b[1;33m\u001b[0m\u001b[0m\n\u001b[0m\u001b[0;32m      5\u001b[0m     \u001b[0mimg\u001b[0m \u001b[1;33m=\u001b[0m \u001b[1;33m(\u001b[0m\u001b[0mnp\u001b[0m\u001b[1;33m.\u001b[0m\u001b[0masarray\u001b[0m\u001b[1;33m(\u001b[0m\u001b[0mimg\u001b[0m\u001b[1;33m)\u001b[0m\u001b[1;33m)\u001b[0m\u001b[1;33m\u001b[0m\u001b[1;33m\u001b[0m\u001b[0m\n\u001b[0;32m      6\u001b[0m     \u001b[0mimg_tensor\u001b[0m \u001b[1;33m=\u001b[0m \u001b[0mimage\u001b[0m\u001b[1;33m.\u001b[0m\u001b[0mimg_to_array\u001b[0m\u001b[1;33m(\u001b[0m\u001b[0mimg\u001b[0m\u001b[1;33m)\u001b[0m\u001b[1;33m\u001b[0m\u001b[1;33m\u001b[0m\u001b[0m\n",
      "\u001b[1;32m~\\AppData\\Roaming\\Python\\Python38\\site-packages\\keras\\preprocessing\\image.py\u001b[0m in \u001b[0;36mload_img\u001b[1;34m(path, grayscale, color_mode, target_size, interpolation)\u001b[0m\n\u001b[0;32m    311\u001b[0m       \u001b[0mValueError\u001b[0m\u001b[1;33m:\u001b[0m \u001b[1;32mif\u001b[0m \u001b[0minterpolation\u001b[0m \u001b[0mmethod\u001b[0m \u001b[1;32mis\u001b[0m \u001b[1;32mnot\u001b[0m \u001b[0msupported\u001b[0m\u001b[1;33m.\u001b[0m\u001b[1;33m\u001b[0m\u001b[1;33m\u001b[0m\u001b[0m\n\u001b[0;32m    312\u001b[0m   \"\"\"\n\u001b[1;32m--> 313\u001b[1;33m   return image.load_img(path, grayscale=grayscale, color_mode=color_mode,\n\u001b[0m\u001b[0;32m    314\u001b[0m                         target_size=target_size, interpolation=interpolation)\n\u001b[0;32m    315\u001b[0m \u001b[1;33m\u001b[0m\u001b[0m\n",
      "\u001b[1;32m~\\AppData\\Roaming\\Python\\Python38\\site-packages\\keras_preprocessing\\image\\utils.py\u001b[0m in \u001b[0;36mload_img\u001b[1;34m(path, grayscale, color_mode, target_size, interpolation)\u001b[0m\n\u001b[0;32m    111\u001b[0m         raise ImportError('Could not import PIL.Image. '\n\u001b[0;32m    112\u001b[0m                           'The use of `load_img` requires PIL.')\n\u001b[1;32m--> 113\u001b[1;33m     \u001b[1;32mwith\u001b[0m \u001b[0mopen\u001b[0m\u001b[1;33m(\u001b[0m\u001b[0mpath\u001b[0m\u001b[1;33m,\u001b[0m \u001b[1;34m'rb'\u001b[0m\u001b[1;33m)\u001b[0m \u001b[1;32mas\u001b[0m \u001b[0mf\u001b[0m\u001b[1;33m:\u001b[0m\u001b[1;33m\u001b[0m\u001b[1;33m\u001b[0m\u001b[0m\n\u001b[0m\u001b[0;32m    114\u001b[0m         \u001b[0mimg\u001b[0m \u001b[1;33m=\u001b[0m \u001b[0mpil_image\u001b[0m\u001b[1;33m.\u001b[0m\u001b[0mopen\u001b[0m\u001b[1;33m(\u001b[0m\u001b[0mio\u001b[0m\u001b[1;33m.\u001b[0m\u001b[0mBytesIO\u001b[0m\u001b[1;33m(\u001b[0m\u001b[0mf\u001b[0m\u001b[1;33m.\u001b[0m\u001b[0mread\u001b[0m\u001b[1;33m(\u001b[0m\u001b[1;33m)\u001b[0m\u001b[1;33m)\u001b[0m\u001b[1;33m)\u001b[0m\u001b[1;33m\u001b[0m\u001b[1;33m\u001b[0m\u001b[0m\n\u001b[0;32m    115\u001b[0m         \u001b[1;32mif\u001b[0m \u001b[0mcolor_mode\u001b[0m \u001b[1;33m==\u001b[0m \u001b[1;34m'grayscale'\u001b[0m\u001b[1;33m:\u001b[0m\u001b[1;33m\u001b[0m\u001b[1;33m\u001b[0m\u001b[0m\n",
      "\u001b[1;31mFileNotFoundError\u001b[0m: [Errno 2] No such file or directory: 'dataset/test/C2/IMG_4191.jpg'"
     ]
    }
   ],
   "source": [
    "from tensorflow.keras.preprocessing import image\n",
    "\n",
    "def load_image(img_path, show=False):\n",
    "    img = image.load_img(img_path, target_size=(300, 300))\n",
    "    img = (np.asarray(img))\n",
    "    img_tensor = image.img_to_array(img)\n",
    "    img_tensor = np.expand_dims(img_tensor, axis=0)         # (1, height, width, channels), add a dimension because the model expects this shape: (batch_size, height, width, channels)\n",
    "    return img_tensor\n",
    "\n",
    "predImage = load_image('dataset/test/C2/IMG_4191.jpg')\n",
    "# predImage\n",
    "pred = model.predict(predImage)\n",
    "pred"
   ]
  },
  {
   "cell_type": "markdown",
   "id": "458a2d8e",
   "metadata": {},
   "source": [
    "## Load Model and Prediction Images"
   ]
  },
  {
   "cell_type": "code",
   "execution_count": 110,
   "id": "a3283616",
   "metadata": {},
   "outputs": [],
   "source": [
    "def loadModel(path):\n",
    "    model_loaded = load_model(path)\n",
    "    print(model_loaded)\n",
    "    rmsprop = optimizers.RMSprop(lr=0.0001, rho=0.9, epsilon=1e-08, decay=0.0)\n",
    "    model_loaded.compile(loss='categorical_crossentropy',\n",
    "                optimizer=rmsprop,\n",
    "                metrics=['accuracy'])\n",
    "    model_loaded.summary()\n",
    "    return 'Load Model Successfull'"
   ]
  },
  {
   "cell_type": "code",
   "execution_count": 111,
   "id": "ad71f202",
   "metadata": {},
   "outputs": [
    {
     "name": "stdout",
     "output_type": "stream",
     "text": [
      "<keras.engine.sequential.Sequential object at 0x00000211836CEF70>\n",
      "Model: \"sequential_5\"\n",
      "_________________________________________________________________\n",
      " Layer (type)                Output Shape              Param #   \n",
      "=================================================================\n",
      " conv2d_25 (Conv2D)          (None, 298, 298, 32)      896       \n",
      "                                                                 \n",
      " max_pooling2d_25 (MaxPoolin  (None, 149, 149, 32)     0         \n",
      " g2D)                                                            \n",
      "                                                                 \n",
      " conv2d_26 (Conv2D)          (None, 147, 147, 32)      9248      \n",
      "                                                                 \n",
      " max_pooling2d_26 (MaxPoolin  (None, 73, 73, 32)       0         \n",
      " g2D)                                                            \n",
      "                                                                 \n",
      " conv2d_27 (Conv2D)          (None, 71, 71, 32)        9248      \n",
      "                                                                 \n",
      " max_pooling2d_27 (MaxPoolin  (None, 35, 35, 32)       0         \n",
      " g2D)                                                            \n",
      "                                                                 \n",
      " conv2d_28 (Conv2D)          (None, 33, 33, 64)        18496     \n",
      "                                                                 \n",
      " max_pooling2d_28 (MaxPoolin  (None, 16, 16, 64)       0         \n",
      " g2D)                                                            \n",
      "                                                                 \n",
      " conv2d_29 (Conv2D)          (None, 14, 14, 64)        36928     \n",
      "                                                                 \n",
      " max_pooling2d_29 (MaxPoolin  (None, 7, 7, 64)         0         \n",
      " g2D)                                                            \n",
      "                                                                 \n",
      " flatten_5 (Flatten)         (None, 3136)              0         \n",
      "                                                                 \n",
      " dense_15 (Dense)            (None, 900)               2823300   \n",
      "                                                                 \n",
      " dense_16 (Dense)            (None, 90)                81090     \n",
      "                                                                 \n",
      " dense_17 (Dense)            (None, 3)                 273       \n",
      "                                                                 \n",
      "=================================================================\n",
      "Total params: 2,979,479\n",
      "Trainable params: 2,979,479\n",
      "Non-trainable params: 0\n",
      "_________________________________________________________________\n"
     ]
    },
    {
     "name": "stderr",
     "output_type": "stream",
     "text": [
      "C:\\Users\\ACER\\AppData\\Roaming\\Python\\Python38\\site-packages\\keras\\optimizer_v2\\rmsprop.py:130: UserWarning: The `lr` argument is deprecated, use `learning_rate` instead.\n",
      "  super(RMSprop, self).__init__(name, **kwargs)\n"
     ]
    }
   ],
   "source": [
    "modelPredict = loadModel('data/train_10/model_new.h5')"
   ]
  },
  {
   "cell_type": "code",
   "execution_count": 273,
   "id": "1f3a1678",
   "metadata": {},
   "outputs": [
    {
     "data": {
      "text/plain": [
       "array([[5.9313226e-29, 0.0000000e+00, 1.0000000e+00]], dtype=float32)"
      ]
     },
     "execution_count": 273,
     "metadata": {},
     "output_type": "execute_result"
    }
   ],
   "source": [
    "predImage = load_image('dataset/test/C2/100 - kanan kiri c2.png')\n",
    "# predImage\n",
    "pred = model.predict(predImage)\n",
    "pred"
   ]
  },
  {
   "cell_type": "code",
   "execution_count": 274,
   "id": "ac0faebc",
   "metadata": {},
   "outputs": [
    {
     "data": {
      "text/plain": [
       "array([0, 0, 0, 0, 0, 0, 0, 0, 0, 0, 0, 0, 0, 0, 0, 0, 0, 0, 0, 0, 0, 0,\n",
       "       0, 0, 0, 1, 1, 1, 1, 1, 1, 1, 1, 1, 1, 1, 1, 1, 1, 1, 1, 1, 1, 1,\n",
       "       1, 1, 1, 1, 2, 2, 2, 2, 2, 2, 2, 2, 2, 2, 2, 2, 2])"
      ]
     },
     "execution_count": 274,
     "metadata": {},
     "output_type": "execute_result"
    }
   ],
   "source": [
    "test_data_gen.classes"
   ]
  },
  {
   "cell_type": "code",
   "execution_count": 275,
   "id": "1d2b38ef",
   "metadata": {},
   "outputs": [
    {
     "data": {
      "text/plain": [
       "<keras.preprocessing.image.DirectoryIterator at 0x26030deff10>"
      ]
     },
     "execution_count": 275,
     "metadata": {},
     "output_type": "execute_result"
    }
   ],
   "source": [
    "test_data_gen"
   ]
  },
  {
   "cell_type": "code",
   "execution_count": 112,
   "id": "13dfddaa",
   "metadata": {},
   "outputs": [
    {
     "data": {
      "text/plain": [
       "array([0, 1, 0, 1, 0, 1, 0, 1, 0, 1, 1, 1, 1, 1, 1, 1, 1, 1, 1, 2, 1, 1,\n",
       "       1, 1, 1, 1, 1, 1, 1, 1, 1, 1, 1, 1, 1, 1], dtype=int64)"
      ]
     },
     "execution_count": 112,
     "metadata": {},
     "output_type": "execute_result"
    }
   ],
   "source": [
    "Y_pred = model.predict(test_data_gen,  // batch_size)\n",
    "y_pred = np.argmax(Y_pred, axis=1)\n",
    "y_pred"
   ]
  },
  {
   "cell_type": "markdown",
   "id": "0efdfd54",
   "metadata": {},
   "source": [
    "## Confusion Matrix"
   ]
  },
  {
   "cell_type": "code",
   "execution_count": 114,
   "id": "0e7dd77a",
   "metadata": {},
   "outputs": [
    {
     "name": "stdout",
     "output_type": "stream",
     "text": [
      "Confusion Matrix\n",
      "[[ 5 11  0]\n",
      " [ 0 13  1]\n",
      " [ 0  6  0]]\n",
      "Classification Report\n",
      "              precision    recall  f1-score   support\n",
      "\n",
      "          C1       1.00      0.31      0.48        16\n",
      "          C2       0.43      0.93      0.59        14\n",
      "          C3       0.00      0.00      0.00         6\n",
      "\n",
      "    accuracy                           0.50        36\n",
      "   macro avg       0.48      0.41      0.36        36\n",
      "weighted avg       0.61      0.50      0.44        36\n",
      "\n"
     ]
    }
   ],
   "source": [
    "#Confution Matrix and Classification Report\n",
    "Y_pred = model.predict(test_data_gen,36 // batch_size)\n",
    "y_pred = np.argmax(Y_pred, axis=1)\n",
    "print('Confusion Matrix')\n",
    "print(confusion_matrix(test_data_gen.classes, y_pred))\n",
    "print('Classification Report')\n",
    "target_names = ['C1', 'C2', 'C3']\n",
    "print(classification_report(test_data_gen.classes, y_pred, target_names=target_names))"
   ]
  },
  {
   "cell_type": "code",
   "execution_count": 116,
   "id": "169fb5a5",
   "metadata": {},
   "outputs": [],
   "source": [
    "def plot_confusion_matrix(cm, classes, normalize=False,title='Confusion matrix',cmap=plt.cm.Blues):\n",
    "    #Add Normalization Option\n",
    "    if normalize:\n",
    "        cm = cm.astype('float') / cm.sum(axis=1)[:, np.newaxis]\n",
    "        print('Normalized confusion matrix')\n",
    "    else:\n",
    "        print('Confusion matrix, without normalization')\n",
    "        \n",
    "    plt.imshow(cm, interpolation='nearest', cmap=cmap)\n",
    "    plt.title(title)\n",
    "    plt.colorbar()\n",
    "    tick_marks = np.arange(len(classes))\n",
    "    plt.xticks(tick_marks, classes, rotation=45)\n",
    "    plt.yticks(tick_marks, classes)\n",
    " \n",
    "    fmt = '.2f' if normalize else 'd'\n",
    "    thresh = cm.max() / 2.\n",
    "    for i, j in itertools.product(range(cm.shape[0]), range(cm.shape[1])):\n",
    "        plt.text(j, i, format(cm[i, j], fmt), horizontalalignment='center', color='white' if cm[i, j] > thresh else 'black')\n",
    " \n",
    "    plt.tight_layout()\n",
    "    plt.ylabel('True label')\n",
    "    plt.xlabel('Predicted label')\n",
    "    plt.savefig('data/train_10/confusion_matrix.png')"
   ]
  },
  {
   "cell_type": "code",
   "execution_count": 117,
   "id": "c79c0734",
   "metadata": {},
   "outputs": [
    {
     "name": "stdout",
     "output_type": "stream",
     "text": [
      "Normalized confusion matrix\n"
     ]
    },
    {
     "data": {
      "image/png": "[encoded data removed]",
      "text/plain": [
       "<Figure size 432x288 with 2 Axes>"
      ]
     },
     "metadata": {
      "needs_background": "light"
     },
     "output_type": "display_data"
    }
   ],
   "source": [
    "cm = confusion_matrix(test_data_gen.classes, y_pred)\n",
    "plot_confusion_matrix(cm,target_names,normalize=True)"
   ]
  },
  {
   "cell_type": "code",
   "execution_count": null,
   "id": "d4ea1c7c",
   "metadata": {},
   "outputs": [],
   "source": []
  }
 ],
 "metadata": {
  "kernelspec": {
   "display_name": "Python 3",
   "language": "python",
   "name": "python3"
  },
  "language_info": {
   "codemirror_mode": {
    "name": "ipython",
    "version": 3
   },
   "file_extension": ".py",
   "mimetype": "text/x-python",
   "name": "python",
   "nbconvert_exporter": "python",
   "pygments_lexer": "ipython3",
   "version": "3.8.8"
  }
 },
 "nbformat": 4,
 "nbformat_minor": 5
}
